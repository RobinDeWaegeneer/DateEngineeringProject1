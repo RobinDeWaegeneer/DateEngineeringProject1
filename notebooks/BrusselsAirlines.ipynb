{
 "cells": [
  {
   "attachments": {},
   "cell_type": "markdown",
   "metadata": {},
   "source": [
    "add imports"
   ]
  },
  {
   "cell_type": "code",
   "execution_count": 19,
   "metadata": {},
   "outputs": [],
   "source": [
    "import pandas as pd\n",
    "import matplotlib.pyplot as plt"
   ]
  },
  {
   "cell_type": "code",
   "execution_count": 21,
   "metadata": {},
   "outputs": [],
   "source": [
    "df = pd.read_csv(\"../csv/BrusselsAirlines.csv\")"
   ]
  },
  {
   "cell_type": "code",
   "execution_count": 3,
   "metadata": {},
   "outputs": [
    {
     "data": {
      "text/html": [
       "<div>\n",
       "<style scoped>\n",
       "    .dataframe tbody tr th:only-of-type {\n",
       "        vertical-align: middle;\n",
       "    }\n",
       "\n",
       "    .dataframe tbody tr th {\n",
       "        vertical-align: top;\n",
       "    }\n",
       "\n",
       "    .dataframe thead th {\n",
       "        text-align: right;\n",
       "    }\n",
       "</style>\n",
       "<table border=\"1\" class=\"dataframe\">\n",
       "  <thead>\n",
       "    <tr style=\"text-align: right;\">\n",
       "      <th></th>\n",
       "      <th>Departure</th>\n",
       "      <th>Destination</th>\n",
       "      <th>Date</th>\n",
       "      <th>Departure time</th>\n",
       "      <th>Arrival time</th>\n",
       "      <th>Stops</th>\n",
       "      <th>Flightnumber</th>\n",
       "      <th>Airports</th>\n",
       "      <th>Duration</th>\n",
       "      <th>Price</th>\n",
       "    </tr>\n",
       "  </thead>\n",
       "  <tbody>\n",
       "    <tr>\n",
       "      <th>count</th>\n",
       "      <td>65</td>\n",
       "      <td>65</td>\n",
       "      <td>65</td>\n",
       "      <td>65</td>\n",
       "      <td>65</td>\n",
       "      <td>65</td>\n",
       "      <td>65</td>\n",
       "      <td>65</td>\n",
       "      <td>65</td>\n",
       "      <td>65</td>\n",
       "    </tr>\n",
       "    <tr>\n",
       "      <th>unique</th>\n",
       "      <td>1</td>\n",
       "      <td>1</td>\n",
       "      <td>20</td>\n",
       "      <td>11</td>\n",
       "      <td>17</td>\n",
       "      <td>4</td>\n",
       "      <td>21</td>\n",
       "      <td>12</td>\n",
       "      <td>19</td>\n",
       "      <td>49</td>\n",
       "    </tr>\n",
       "    <tr>\n",
       "      <th>top</th>\n",
       "      <td>brussel</td>\n",
       "      <td>heraklion</td>\n",
       "      <td>08/04/2023</td>\n",
       "      <td>06:55</td>\n",
       "      <td>08:50</td>\n",
       "      <td>1</td>\n",
       "      <td>['SN 3255']</td>\n",
       "      <td>['Brussels Airlines', 'Lufthansa']</td>\n",
       "      <td>755</td>\n",
       "      <td>356.88</td>\n",
       "    </tr>\n",
       "    <tr>\n",
       "      <th>freq</th>\n",
       "      <td>65</td>\n",
       "      <td>65</td>\n",
       "      <td>6</td>\n",
       "      <td>13</td>\n",
       "      <td>10</td>\n",
       "      <td>41</td>\n",
       "      <td>8</td>\n",
       "      <td>14</td>\n",
       "      <td>12</td>\n",
       "      <td>4</td>\n",
       "    </tr>\n",
       "  </tbody>\n",
       "</table>\n",
       "</div>"
      ],
      "text/plain": [
       "       Departure Destination        Date Departure time Arrival time Stops  \\\n",
       "count         65          65          65             65           65    65   \n",
       "unique         1           1          20             11           17     4   \n",
       "top      brussel   heraklion  08/04/2023          06:55        08:50     1   \n",
       "freq          65          65           6             13           10    41   \n",
       "\n",
       "       Flightnumber                            Airports Duration   Price  \n",
       "count            65                                  65       65      65  \n",
       "unique           21                                  12       19      49  \n",
       "top     ['SN 3255']  ['Brussels Airlines', 'Lufthansa']      755  356.88  \n",
       "freq              8                                  14       12       4  "
      ]
     },
     "execution_count": 3,
     "metadata": {},
     "output_type": "execute_result"
    }
   ],
   "source": [
    "df.describe()"
   ]
  },
  {
   "cell_type": "code",
   "execution_count": 4,
   "metadata": {},
   "outputs": [
    {
     "name": "stdout",
     "output_type": "stream",
     "text": [
      "<class 'pandas.core.frame.DataFrame'>\n",
      "RangeIndex: 65 entries, 0 to 64\n",
      "Data columns (total 10 columns):\n",
      " #   Column          Non-Null Count  Dtype \n",
      "---  ------          --------------  ----- \n",
      " 0   Departure       65 non-null     object\n",
      " 1   Destination     65 non-null     object\n",
      " 2   Date            65 non-null     object\n",
      " 3   Departure time  65 non-null     object\n",
      " 4   Arrival time    65 non-null     object\n",
      " 5   Stops           65 non-null     object\n",
      " 6   Flightnumber    65 non-null     object\n",
      " 7   Airports        65 non-null     object\n",
      " 8   Duration        65 non-null     object\n",
      " 9   Price           65 non-null     object\n",
      "dtypes: object(10)\n",
      "memory usage: 5.2+ KB\n"
     ]
    }
   ],
   "source": [
    "df.info()"
   ]
  },
  {
   "cell_type": "code",
   "execution_count": 6,
   "metadata": {},
   "outputs": [
    {
     "data": {
      "text/html": [
       "<div>\n",
       "<style scoped>\n",
       "    .dataframe tbody tr th:only-of-type {\n",
       "        vertical-align: middle;\n",
       "    }\n",
       "\n",
       "    .dataframe tbody tr th {\n",
       "        vertical-align: top;\n",
       "    }\n",
       "\n",
       "    .dataframe thead th {\n",
       "        text-align: right;\n",
       "    }\n",
       "</style>\n",
       "<table border=\"1\" class=\"dataframe\">\n",
       "  <thead>\n",
       "    <tr style=\"text-align: right;\">\n",
       "      <th></th>\n",
       "      <th>Departure</th>\n",
       "      <th>Destination</th>\n",
       "      <th>Date</th>\n",
       "      <th>Departure time</th>\n",
       "      <th>Arrival time</th>\n",
       "      <th>Stops</th>\n",
       "      <th>Flightnumber</th>\n",
       "      <th>Airports</th>\n",
       "      <th>Duration</th>\n",
       "      <th>Price</th>\n",
       "    </tr>\n",
       "  </thead>\n",
       "  <tbody>\n",
       "    <tr>\n",
       "      <th>0</th>\n",
       "      <td>brussel</td>\n",
       "      <td>heraklion</td>\n",
       "      <td>01/04/2023</td>\n",
       "      <td>05:55</td>\n",
       "      <td>10:20</td>\n",
       "      <td>0</td>\n",
       "      <td>['SN 3255']</td>\n",
       "      <td>['Brussels Airlines']</td>\n",
       "      <td>205</td>\n",
       "      <td>392.14</td>\n",
       "    </tr>\n",
       "    <tr>\n",
       "      <th>1</th>\n",
       "      <td>brussel</td>\n",
       "      <td>heraklion</td>\n",
       "      <td>01/04/2023</td>\n",
       "      <td>06:20</td>\n",
       "      <td>14:15</td>\n",
       "      <td>1</td>\n",
       "      <td>['LX 4551', 'LX 2350']</td>\n",
       "      <td>['Brussels Airlines', 'Swiss International Air...</td>\n",
       "      <td>415</td>\n",
       "      <td>527.84</td>\n",
       "    </tr>\n",
       "    <tr>\n",
       "      <th>2</th>\n",
       "      <td>brussel</td>\n",
       "      <td>heraklion</td>\n",
       "      <td>01/04/2023</td>\n",
       "      <td>19:15</td>\n",
       "      <td>08:50</td>\n",
       "      <td>1</td>\n",
       "      <td>['LH 5589', 'LH 4420']</td>\n",
       "      <td>['Brussels Airlines', 'EW Discover']</td>\n",
       "      <td>755</td>\n",
       "      <td>726.88</td>\n",
       "    </tr>\n",
       "    <tr>\n",
       "      <th>3</th>\n",
       "      <td>brussel</td>\n",
       "      <td>heraklion</td>\n",
       "      <td>01/04/2023</td>\n",
       "      <td>19:15</td>\n",
       "      <td>10:00</td>\n",
       "      <td>1</td>\n",
       "      <td>['OS 8176', 'OS 9003']</td>\n",
       "      <td>['Brussels Airlines', 'Austrian Airlines']</td>\n",
       "      <td>825</td>\n",
       "      <td>718.38</td>\n",
       "    </tr>\n",
       "    <tr>\n",
       "      <th>4</th>\n",
       "      <td>brussel</td>\n",
       "      <td>heraklion</td>\n",
       "      <td>01/04/2023</td>\n",
       "      <td>19:15</td>\n",
       "      <td>08:50</td>\n",
       "      <td>1</td>\n",
       "      <td>['LH 5589', '4Y 1204']</td>\n",
       "      <td>['Brussels Airlines', 'EW Discover']</td>\n",
       "      <td>755</td>\n",
       "      <td>726.88</td>\n",
       "    </tr>\n",
       "    <tr>\n",
       "      <th>...</th>\n",
       "      <td>...</td>\n",
       "      <td>...</td>\n",
       "      <td>...</td>\n",
       "      <td>...</td>\n",
       "      <td>...</td>\n",
       "      <td>...</td>\n",
       "      <td>...</td>\n",
       "      <td>...</td>\n",
       "      <td>...</td>\n",
       "      <td>...</td>\n",
       "    </tr>\n",
       "    <tr>\n",
       "      <th>60</th>\n",
       "      <td>brussel</td>\n",
       "      <td>heraklion</td>\n",
       "      <td>18/04/2023</td>\n",
       "      <td>06:20</td>\n",
       "      <td>19:55</td>\n",
       "      <td>2</td>\n",
       "      <td>['LX 4551', 'LX 2809', 'LX 8348']</td>\n",
       "      <td>['Brussels Airlines', 'Swiss International Air...</td>\n",
       "      <td>755</td>\n",
       "      <td>264.16</td>\n",
       "    </tr>\n",
       "    <tr>\n",
       "      <th>61</th>\n",
       "      <td>brussel</td>\n",
       "      <td>heraklion</td>\n",
       "      <td>19/04/2023</td>\n",
       "      <td>05:55</td>\n",
       "      <td>10:20</td>\n",
       "      <td>0</td>\n",
       "      <td>['SN 3255']</td>\n",
       "      <td>['Brussels Airlines']</td>\n",
       "      <td>205</td>\n",
       "      <td>236.14</td>\n",
       "    </tr>\n",
       "    <tr>\n",
       "      <th>62</th>\n",
       "      <td>brussel</td>\n",
       "      <td>heraklion</td>\n",
       "      <td>19/04/2023</td>\n",
       "      <td>15:00</td>\n",
       "      <td>10:15</td>\n",
       "      <td>2</td>\n",
       "      <td>['LX 4557', 'LX 2819', 'LX 8348']</td>\n",
       "      <td>['Brussels Airlines', 'Swiss International Air...</td>\n",
       "      <td>1095</td>\n",
       "      <td>196.16</td>\n",
       "    </tr>\n",
       "    <tr>\n",
       "      <th>63</th>\n",
       "      <td>brussel</td>\n",
       "      <td>heraklion</td>\n",
       "      <td>20/04/2023</td>\n",
       "      <td>09:35</td>\n",
       "      <td>15:45</td>\n",
       "      <td>1</td>\n",
       "      <td>['LH 5625', 'LH 5922']</td>\n",
       "      <td>['Brussels Airlines', 'Aegean Airlines']</td>\n",
       "      <td>310</td>\n",
       "      <td>373.58</td>\n",
       "    </tr>\n",
       "    <tr>\n",
       "      <th>64</th>\n",
       "      <td>brussel</td>\n",
       "      <td>heraklion</td>\n",
       "      <td>20/04/2023</td>\n",
       "      <td>09:35</td>\n",
       "      <td>17:55</td>\n",
       "      <td>1</td>\n",
       "      <td>['LH 5625', 'LH 1758']</td>\n",
       "      <td>['Brussels Airlines', 'Lufthansa']</td>\n",
       "      <td>440</td>\n",
       "      <td>191.58</td>\n",
       "    </tr>\n",
       "  </tbody>\n",
       "</table>\n",
       "<p>65 rows × 10 columns</p>\n",
       "</div>"
      ],
      "text/plain": [
       "   Departure Destination        Date Departure time Arrival time Stops  \\\n",
       "0    brussel   heraklion  01/04/2023          05:55        10:20     0   \n",
       "1    brussel   heraklion  01/04/2023          06:20        14:15     1   \n",
       "2    brussel   heraklion  01/04/2023          19:15        08:50     1   \n",
       "3    brussel   heraklion  01/04/2023          19:15        10:00     1   \n",
       "4    brussel   heraklion  01/04/2023          19:15        08:50     1   \n",
       "..       ...         ...         ...            ...          ...   ...   \n",
       "60   brussel   heraklion  18/04/2023          06:20        19:55     2   \n",
       "61   brussel   heraklion  19/04/2023          05:55        10:20     0   \n",
       "62   brussel   heraklion  19/04/2023          15:00        10:15     2   \n",
       "63   brussel   heraklion  20/04/2023          09:35        15:45     1   \n",
       "64   brussel   heraklion  20/04/2023          09:35        17:55     1   \n",
       "\n",
       "                         Flightnumber  \\\n",
       "0                         ['SN 3255']   \n",
       "1              ['LX 4551', 'LX 2350']   \n",
       "2              ['LH 5589', 'LH 4420']   \n",
       "3              ['OS 8176', 'OS 9003']   \n",
       "4              ['LH 5589', '4Y 1204']   \n",
       "..                                ...   \n",
       "60  ['LX 4551', 'LX 2809', 'LX 8348']   \n",
       "61                        ['SN 3255']   \n",
       "62  ['LX 4557', 'LX 2819', 'LX 8348']   \n",
       "63             ['LH 5625', 'LH 5922']   \n",
       "64             ['LH 5625', 'LH 1758']   \n",
       "\n",
       "                                             Airports Duration   Price  \n",
       "0                               ['Brussels Airlines']      205  392.14  \n",
       "1   ['Brussels Airlines', 'Swiss International Air...      415  527.84  \n",
       "2                ['Brussels Airlines', 'EW Discover']      755  726.88  \n",
       "3          ['Brussels Airlines', 'Austrian Airlines']      825  718.38  \n",
       "4                ['Brussels Airlines', 'EW Discover']      755  726.88  \n",
       "..                                                ...      ...     ...  \n",
       "60  ['Brussels Airlines', 'Swiss International Air...      755  264.16  \n",
       "61                              ['Brussels Airlines']      205  236.14  \n",
       "62  ['Brussels Airlines', 'Swiss International Air...     1095  196.16  \n",
       "63           ['Brussels Airlines', 'Aegean Airlines']      310  373.58  \n",
       "64                 ['Brussels Airlines', 'Lufthansa']      440  191.58  \n",
       "\n",
       "[65 rows x 10 columns]"
      ]
     },
     "execution_count": 6,
     "metadata": {},
     "output_type": "execute_result"
    }
   ],
   "source": [
    "df.filter(items=[\"Departure\", \"Destination\", \"Date\", \"Departure time\", \"Arrival time\", \"Stops\", \"Flightnumber\", \"Airports\", \"Duration\", \"Price\"])"
   ]
  },
  {
   "cell_type": "code",
   "execution_count": 7,
   "metadata": {},
   "outputs": [
    {
     "data": {
      "text/plain": [
       "brussel    65\n",
       "Name: Departure, dtype: int64"
      ]
     },
     "execution_count": 7,
     "metadata": {},
     "output_type": "execute_result"
    }
   ],
   "source": [
    "df[\"Departure\"].value_counts()"
   ]
  },
  {
   "cell_type": "code",
   "execution_count": 8,
   "metadata": {},
   "outputs": [
    {
     "data": {
      "text/plain": [
       "heraklion    65\n",
       "Name: Destination, dtype: int64"
      ]
     },
     "execution_count": 8,
     "metadata": {},
     "output_type": "execute_result"
    }
   ],
   "source": [
    "df[\"Destination\"].value_counts()"
   ]
  },
  {
   "cell_type": "code",
   "execution_count": 9,
   "metadata": {},
   "outputs": [
    {
     "data": {
      "text/plain": [
       "08/04/2023    6\n",
       "15/04/2023    6\n",
       "01/04/2023    5\n",
       "09/04/2023    5\n",
       "16/04/2023    5\n",
       "02/04/2023    5\n",
       "14/04/2023    4\n",
       "07/04/2023    4\n",
       "18/04/2023    3\n",
       "17/04/2023    3\n",
       "06/04/2023    3\n",
       "13/04/2023    3\n",
       "19/04/2023    2\n",
       "11/04/2023    2\n",
       "12/04/2023    2\n",
       "05/04/2023    2\n",
       "20/04/2023    2\n",
       "10/04/2023    1\n",
       "04/04/2023    1\n",
       "03/04/2023    1\n",
       "Name: Date, dtype: int64"
      ]
     },
     "execution_count": 9,
     "metadata": {},
     "output_type": "execute_result"
    }
   ],
   "source": [
    "df[\"Date\"].value_counts()"
   ]
  },
  {
   "cell_type": "code",
   "execution_count": 10,
   "metadata": {},
   "outputs": [
    {
     "data": {
      "text/plain": [
       "06:55    13\n",
       "19:15    12\n",
       "09:35    10\n",
       "07:00     7\n",
       "05:55     6\n",
       "06:20     4\n",
       "19:00     3\n",
       "15:00     3\n",
       "19:20     3\n",
       "None      2\n",
       "07:55     2\n",
       "Name: Departure time, dtype: int64"
      ]
     },
     "execution_count": 10,
     "metadata": {},
     "output_type": "execute_result"
    }
   ],
   "source": [
    "df[\"Departure time\"].value_counts()"
   ]
  },
  {
   "cell_type": "code",
   "execution_count": 11,
   "metadata": {},
   "outputs": [
    {
     "data": {
      "text/plain": [
       "08:50    10\n",
       "16:05     9\n",
       "19:55     7\n",
       "10:20     6\n",
       "15:45     5\n",
       "17:55     5\n",
       "01:00     3\n",
       "18:20     3\n",
       "10:15     3\n",
       "None      2\n",
       "14:15     2\n",
       "20:10     2\n",
       "12:35     2\n",
       "12:20     2\n",
       "17:45     2\n",
       "10:00     1\n",
       "09:50     1\n",
       "Name: Arrival time, dtype: int64"
      ]
     },
     "execution_count": 11,
     "metadata": {},
     "output_type": "execute_result"
    }
   ],
   "source": [
    "df[\"Arrival time\"].value_counts()"
   ]
  },
  {
   "cell_type": "code",
   "execution_count": 12,
   "metadata": {},
   "outputs": [
    {
     "data": {
      "text/plain": [
       "1       41\n",
       "2       14\n",
       "0        8\n",
       "None     2\n",
       "Name: Stops, dtype: int64"
      ]
     },
     "execution_count": 12,
     "metadata": {},
     "output_type": "execute_result"
    }
   ],
   "source": [
    "df[\"Stops\"].value_counts()"
   ]
  },
  {
   "cell_type": "code",
   "execution_count": 13,
   "metadata": {},
   "outputs": [
    {
     "data": {
      "text/plain": [
       "['SN 3255']                          8\n",
       "['LH 5625', 'LH 1758']               7\n",
       "['LH 5589', 'LH 4420']               5\n",
       "['LH 5589', '4Y 1204']               5\n",
       "['LH 5587', 'LH 1296']               5\n",
       "['LH 5629', 'LH 1758']               5\n",
       "['LX 4545', 'LX 8348']               4\n",
       "['LH 5631', 'LH 5922']               3\n",
       "['LH 5625', 'LH 5922']               3\n",
       "['LX 4557', 'LX 2819', 'LX 8348']    3\n",
       "['LX 4563', 'LX 8348']               2\n",
       "None                                 2\n",
       "['LX 4551', 'LX 2350']               2\n",
       "['LH 5629', 'LH 101', 'LH 1296']     2\n",
       "['LH 5629', 'LH 99', 'LH 1296']      2\n",
       "['OS 8176', 'OS 9003']               2\n",
       "['LH 5587', 'LH 98', 'LH 5922']      1\n",
       "['LH 5587', 'LH 100', 'LH 5922']     1\n",
       "['LX 4563', 'LX 2805', 'LX 8348']    1\n",
       "['LX 4551', 'LX 2807', 'LX 8348']    1\n",
       "['LX 4551', 'LX 2809', 'LX 8348']    1\n",
       "Name: Flightnumber, dtype: int64"
      ]
     },
     "execution_count": 13,
     "metadata": {},
     "output_type": "execute_result"
    }
   ],
   "source": [
    "df[\"Flightnumber\"].value_counts()"
   ]
  },
  {
   "cell_type": "code",
   "execution_count": 14,
   "metadata": {},
   "outputs": [
    {
     "data": {
      "text/plain": [
       "['Brussels Airlines', 'Lufthansa']                                         14\n",
       "['Brussels Airlines', 'EW Discover']                                       13\n",
       "['Brussels Airlines']                                                       8\n",
       "['Brussels Airlines', 'Aegean Airlines']                                    6\n",
       "['Brussels Airlines', 'Swiss International Air Lines', 'Edelweiss Air']     6\n",
       "['Brussels Airlines', 'Lufthansa', 'Lufthansa']                             4\n",
       "['Brussels Airlines', 'Edelweiss Air']                                      4\n",
       "['Brussels Airlines', 'Swiss International Air Lines']                      2\n",
       "['Brussels Airlines', 'Austrian Airlines']                                  2\n",
       "None                                                                        2\n",
       "['Brussels Airlines', 'Lufthansa', 'Aegean Airlines']                       2\n",
       "['Brussels Airlines', 'SWISS RAILWAYS', 'Edelweiss Air']                    2\n",
       "Name: Airports, dtype: int64"
      ]
     },
     "execution_count": 14,
     "metadata": {},
     "output_type": "execute_result"
    }
   ],
   "source": [
    "df[\"Airports\"].value_counts()"
   ]
  },
  {
   "cell_type": "code",
   "execution_count": 15,
   "metadata": {},
   "outputs": [
    {
     "data": {
      "text/plain": [
       "755     12\n",
       "205      8\n",
       "440      5\n",
       "485      5\n",
       "490      4\n",
       "310      3\n",
       "1095     3\n",
       "1415     3\n",
       "625      3\n",
       "300      3\n",
       "None     2\n",
       "415      2\n",
       "465      2\n",
       "735      2\n",
       "280      2\n",
       "720      2\n",
       "430      2\n",
       "825      1\n",
       "815      1\n",
       "Name: Duration, dtype: int64"
      ]
     },
     "execution_count": 15,
     "metadata": {},
     "output_type": "execute_result"
    }
   ],
   "source": [
    "df[\"Duration\"].value_counts()"
   ]
  },
  {
   "cell_type": "code",
   "execution_count": 16,
   "metadata": {},
   "outputs": [
    {
     "data": {
      "text/plain": [
       "356.88     4\n",
       "191.58     4\n",
       "373.58     2\n",
       "144.88     2\n",
       "196.16     2\n",
       "401.58     2\n",
       "252.88     2\n",
       "None       2\n",
       "314.83     2\n",
       "743.58     2\n",
       "726.88     2\n",
       "158.14     2\n",
       "191.46     1\n",
       "131.58     1\n",
       "197.14     1\n",
       "352.84     1\n",
       "436.11     1\n",
       "350.67     1\n",
       "392.14     1\n",
       "288.14     1\n",
       "246.67     1\n",
       "343.58     1\n",
       "406.11     1\n",
       "327.28     1\n",
       "221.46     1\n",
       "321.16     1\n",
       "264.16     1\n",
       "312.58     1\n",
       "161.58     1\n",
       "373.46     1\n",
       "587.11     1\n",
       "718.38     1\n",
       "969.67     1\n",
       "713.58     1\n",
       "782.11     1\n",
       "1034.11    1\n",
       "518.58     1\n",
       "652.14     1\n",
       "368.16     1\n",
       "812.11     1\n",
       "483.46     1\n",
       "453.58     1\n",
       "525.67     1\n",
       "348.38     1\n",
       "457.14     1\n",
       "269.58     1\n",
       "408.67     1\n",
       "527.84     1\n",
       "236.14     1\n",
       "Name: Price, dtype: int64"
      ]
     },
     "execution_count": 16,
     "metadata": {},
     "output_type": "execute_result"
    }
   ],
   "source": [
    "df[\"Price\"].value_counts()"
   ]
  },
  {
   "cell_type": "code",
   "execution_count": 23,
   "metadata": {},
   "outputs": [],
   "source": [
    "df = pd.read_csv(\"../csv/BrusselsAirlines.csv\")\n",
    "df.drop_duplicates(subset=None, inplace=True)\n",
    "df.to_csv(\"../csv/BrusselsAirlines.csv\", index=False)"
   ]
  }
 ],
 "metadata": {
  "kernelspec": {
   "display_name": "Python 3",
   "language": "python",
   "name": "python3"
  },
  "language_info": {
   "codemirror_mode": {
    "name": "ipython",
    "version": 3
   },
   "file_extension": ".py",
   "mimetype": "text/x-python",
   "name": "python",
   "nbconvert_exporter": "python",
   "pygments_lexer": "ipython3",
   "version": "3.11.0"
  },
  "orig_nbformat": 4
 },
 "nbformat": 4,
 "nbformat_minor": 2
}
