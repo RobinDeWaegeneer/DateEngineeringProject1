{
 "cells": [
  {
   "attachments": {},
   "cell_type": "markdown",
   "metadata": {},
   "source": [
    "add imports"
   ]
  },
  {
   "cell_type": "code",
   "execution_count": 1,
   "metadata": {},
   "outputs": [],
   "source": [
    "import pandas as pd\n",
    "import matplotlib.pyplot as plt"
   ]
  },
  {
   "cell_type": "code",
   "execution_count": 2,
   "metadata": {},
   "outputs": [],
   "source": [
    "df = pd.read_csv(\"../csv/Transavia.csv\")"
   ]
  },
  {
   "cell_type": "code",
   "execution_count": 3,
   "metadata": {},
   "outputs": [
    {
     "data": {
      "text/html": [
       "<div>\n",
       "<style scoped>\n",
       "    .dataframe tbody tr th:only-of-type {\n",
       "        vertical-align: middle;\n",
       "    }\n",
       "\n",
       "    .dataframe tbody tr th {\n",
       "        vertical-align: top;\n",
       "    }\n",
       "\n",
       "    .dataframe thead th {\n",
       "        text-align: right;\n",
       "    }\n",
       "</style>\n",
       "<table border=\"1\" class=\"dataframe\">\n",
       "  <thead>\n",
       "    <tr style=\"text-align: right;\">\n",
       "      <th></th>\n",
       "      <th>Departure</th>\n",
       "      <th>Destination</th>\n",
       "      <th>Date</th>\n",
       "      <th>Departure time</th>\n",
       "      <th>Arrival time</th>\n",
       "      <th>Flightnumber</th>\n",
       "      <th>Duration</th>\n",
       "      <th>Price</th>\n",
       "    </tr>\n",
       "  </thead>\n",
       "  <tbody>\n",
       "    <tr>\n",
       "      <th>count</th>\n",
       "      <td>2013</td>\n",
       "      <td>2013</td>\n",
       "      <td>2013</td>\n",
       "      <td>2013</td>\n",
       "      <td>2013</td>\n",
       "      <td>2013</td>\n",
       "      <td>2013</td>\n",
       "      <td>2013</td>\n",
       "    </tr>\n",
       "    <tr>\n",
       "      <th>unique</th>\n",
       "      <td>1</td>\n",
       "      <td>11</td>\n",
       "      <td>183</td>\n",
       "      <td>33</td>\n",
       "      <td>36</td>\n",
       "      <td>16</td>\n",
       "      <td>8</td>\n",
       "      <td>98</td>\n",
       "    </tr>\n",
       "    <tr>\n",
       "      <th>top</th>\n",
       "      <td>Brussels</td>\n",
       "      <td>Corfu</td>\n",
       "      <td>01/04/2023</td>\n",
       "      <td>None</td>\n",
       "      <td>None</td>\n",
       "      <td>None</td>\n",
       "      <td>None</td>\n",
       "      <td>None</td>\n",
       "    </tr>\n",
       "    <tr>\n",
       "      <th>freq</th>\n",
       "      <td>2013</td>\n",
       "      <td>183</td>\n",
       "      <td>11</td>\n",
       "      <td>1473</td>\n",
       "      <td>1473</td>\n",
       "      <td>1473</td>\n",
       "      <td>1473</td>\n",
       "      <td>1473</td>\n",
       "    </tr>\n",
       "  </tbody>\n",
       "</table>\n",
       "</div>"
      ],
      "text/plain": [
       "       Departure Destination        Date Departure time Arrival time  \\\n",
       "count       2013        2013        2013           2013         2013   \n",
       "unique         1          11         183             33           36   \n",
       "top     Brussels       Corfu  01/04/2023           None         None   \n",
       "freq        2013         183          11           1473         1473   \n",
       "\n",
       "       Flightnumber Duration Price  \n",
       "count          2013     2013  2013  \n",
       "unique           16        8    98  \n",
       "top            None     None  None  \n",
       "freq           1473     1473  1473  "
      ]
     },
     "execution_count": 3,
     "metadata": {},
     "output_type": "execute_result"
    }
   ],
   "source": [
    "df.describe()"
   ]
  },
  {
   "cell_type": "code",
   "execution_count": 4,
   "metadata": {},
   "outputs": [
    {
     "name": "stdout",
     "output_type": "stream",
     "text": [
      "<class 'pandas.core.frame.DataFrame'>\n",
      "RangeIndex: 2013 entries, 0 to 2012\n",
      "Data columns (total 8 columns):\n",
      " #   Column          Non-Null Count  Dtype \n",
      "---  ------          --------------  ----- \n",
      " 0   Departure       2013 non-null   object\n",
      " 1   Destination     2013 non-null   object\n",
      " 2   Date            2013 non-null   object\n",
      " 3   Departure time  2013 non-null   object\n",
      " 4   Arrival time    2013 non-null   object\n",
      " 5   Flightnumber    2013 non-null   object\n",
      " 6   Duration        2013 non-null   object\n",
      " 7   Price           2013 non-null   object\n",
      "dtypes: object(8)\n",
      "memory usage: 125.9+ KB\n"
     ]
    }
   ],
   "source": [
    "df.info()"
   ]
  },
  {
   "cell_type": "code",
   "execution_count": 6,
   "metadata": {},
   "outputs": [
    {
     "data": {
      "text/html": [
       "<div>\n",
       "<style scoped>\n",
       "    .dataframe tbody tr th:only-of-type {\n",
       "        vertical-align: middle;\n",
       "    }\n",
       "\n",
       "    .dataframe tbody tr th {\n",
       "        vertical-align: top;\n",
       "    }\n",
       "\n",
       "    .dataframe thead th {\n",
       "        text-align: right;\n",
       "    }\n",
       "</style>\n",
       "<table border=\"1\" class=\"dataframe\">\n",
       "  <thead>\n",
       "    <tr style=\"text-align: right;\">\n",
       "      <th></th>\n",
       "      <th>Departure</th>\n",
       "      <th>Destination</th>\n",
       "      <th>Date</th>\n",
       "      <th>Departure time</th>\n",
       "      <th>Arrival time</th>\n",
       "      <th>Flightnumber</th>\n",
       "      <th>Duration</th>\n",
       "      <th>Price</th>\n",
       "    </tr>\n",
       "  </thead>\n",
       "  <tbody>\n",
       "    <tr>\n",
       "      <th>0</th>\n",
       "      <td>Brussels</td>\n",
       "      <td>Corfu</td>\n",
       "      <td>01/04/2023</td>\n",
       "      <td>None</td>\n",
       "      <td>None</td>\n",
       "      <td>None</td>\n",
       "      <td>None</td>\n",
       "      <td>None</td>\n",
       "    </tr>\n",
       "    <tr>\n",
       "      <th>1</th>\n",
       "      <td>Brussels</td>\n",
       "      <td>Corfu</td>\n",
       "      <td>02/04/2023</td>\n",
       "      <td>None</td>\n",
       "      <td>None</td>\n",
       "      <td>None</td>\n",
       "      <td>None</td>\n",
       "      <td>None</td>\n",
       "    </tr>\n",
       "    <tr>\n",
       "      <th>2</th>\n",
       "      <td>Brussels</td>\n",
       "      <td>Corfu</td>\n",
       "      <td>03/04/2023</td>\n",
       "      <td>None</td>\n",
       "      <td>None</td>\n",
       "      <td>None</td>\n",
       "      <td>None</td>\n",
       "      <td>None</td>\n",
       "    </tr>\n",
       "    <tr>\n",
       "      <th>3</th>\n",
       "      <td>Brussels</td>\n",
       "      <td>Corfu</td>\n",
       "      <td>04/04/2023</td>\n",
       "      <td>None</td>\n",
       "      <td>None</td>\n",
       "      <td>None</td>\n",
       "      <td>None</td>\n",
       "      <td>None</td>\n",
       "    </tr>\n",
       "    <tr>\n",
       "      <th>4</th>\n",
       "      <td>Brussels</td>\n",
       "      <td>Corfu</td>\n",
       "      <td>05/04/2023</td>\n",
       "      <td>None</td>\n",
       "      <td>None</td>\n",
       "      <td>None</td>\n",
       "      <td>None</td>\n",
       "      <td>None</td>\n",
       "    </tr>\n",
       "    <tr>\n",
       "      <th>...</th>\n",
       "      <td>...</td>\n",
       "      <td>...</td>\n",
       "      <td>...</td>\n",
       "      <td>...</td>\n",
       "      <td>...</td>\n",
       "      <td>...</td>\n",
       "      <td>...</td>\n",
       "      <td>...</td>\n",
       "    </tr>\n",
       "    <tr>\n",
       "      <th>2008</th>\n",
       "      <td>Brussels</td>\n",
       "      <td>Tenerife</td>\n",
       "      <td>26/09/2023</td>\n",
       "      <td>None</td>\n",
       "      <td>None</td>\n",
       "      <td>None</td>\n",
       "      <td>None</td>\n",
       "      <td>None</td>\n",
       "    </tr>\n",
       "    <tr>\n",
       "      <th>2009</th>\n",
       "      <td>Brussels</td>\n",
       "      <td>Tenerife</td>\n",
       "      <td>27/09/2023</td>\n",
       "      <td>06:30</td>\n",
       "      <td>10:00</td>\n",
       "      <td>HV9061</td>\n",
       "      <td>210</td>\n",
       "      <td>170.0</td>\n",
       "    </tr>\n",
       "    <tr>\n",
       "      <th>2010</th>\n",
       "      <td>Brussels</td>\n",
       "      <td>Tenerife</td>\n",
       "      <td>28/09/2023</td>\n",
       "      <td>None</td>\n",
       "      <td>None</td>\n",
       "      <td>None</td>\n",
       "      <td>None</td>\n",
       "      <td>None</td>\n",
       "    </tr>\n",
       "    <tr>\n",
       "      <th>2011</th>\n",
       "      <td>Brussels</td>\n",
       "      <td>Tenerife</td>\n",
       "      <td>29/09/2023</td>\n",
       "      <td>None</td>\n",
       "      <td>None</td>\n",
       "      <td>None</td>\n",
       "      <td>None</td>\n",
       "      <td>None</td>\n",
       "    </tr>\n",
       "    <tr>\n",
       "      <th>2012</th>\n",
       "      <td>Brussels</td>\n",
       "      <td>Tenerife</td>\n",
       "      <td>30/09/2023</td>\n",
       "      <td>06:30</td>\n",
       "      <td>10:00</td>\n",
       "      <td>HV9061</td>\n",
       "      <td>210</td>\n",
       "      <td>200.0</td>\n",
       "    </tr>\n",
       "  </tbody>\n",
       "</table>\n",
       "<p>2013 rows × 8 columns</p>\n",
       "</div>"
      ],
      "text/plain": [
       "     Departure Destination        Date Departure time Arrival time  \\\n",
       "0     Brussels       Corfu  01/04/2023           None         None   \n",
       "1     Brussels       Corfu  02/04/2023           None         None   \n",
       "2     Brussels       Corfu  03/04/2023           None         None   \n",
       "3     Brussels       Corfu  04/04/2023           None         None   \n",
       "4     Brussels       Corfu  05/04/2023           None         None   \n",
       "...        ...         ...         ...            ...          ...   \n",
       "2008  Brussels    Tenerife  26/09/2023           None         None   \n",
       "2009  Brussels    Tenerife  27/09/2023          06:30        10:00   \n",
       "2010  Brussels    Tenerife  28/09/2023           None         None   \n",
       "2011  Brussels    Tenerife  29/09/2023           None         None   \n",
       "2012  Brussels    Tenerife  30/09/2023          06:30        10:00   \n",
       "\n",
       "     Flightnumber Duration  Price  \n",
       "0            None     None   None  \n",
       "1            None     None   None  \n",
       "2            None     None   None  \n",
       "3            None     None   None  \n",
       "4            None     None   None  \n",
       "...           ...      ...    ...  \n",
       "2008         None     None   None  \n",
       "2009       HV9061      210  170.0  \n",
       "2010         None     None   None  \n",
       "2011         None     None   None  \n",
       "2012       HV9061      210  200.0  \n",
       "\n",
       "[2013 rows x 8 columns]"
      ]
     },
     "execution_count": 6,
     "metadata": {},
     "output_type": "execute_result"
    }
   ],
   "source": [
    "df.filter(items=[\"Departure\", \"Destination\", \"Date\", \"Departure time\", \"Arrival time\", \"Flightnumber\", \"Duration\", \"Price\"])"
   ]
  },
  {
   "cell_type": "code",
   "execution_count": 7,
   "metadata": {},
   "outputs": [
    {
     "data": {
      "text/plain": [
       "Brussels    2013\n",
       "Name: Departure, dtype: int64"
      ]
     },
     "execution_count": 7,
     "metadata": {},
     "output_type": "execute_result"
    }
   ],
   "source": [
    "df[\"Departure\"].value_counts()"
   ]
  },
  {
   "cell_type": "code",
   "execution_count": 8,
   "metadata": {},
   "outputs": [
    {
     "data": {
      "text/plain": [
       "Corfu       183\n",
       "Kreta       183\n",
       "Rhodos      183\n",
       "Brindisi    183\n",
       "Napels      183\n",
       "Palermo     183\n",
       "Faro        183\n",
       "Alicante    183\n",
       "Ibiza       183\n",
       "Malaga      183\n",
       "Tenerife    183\n",
       "Name: Destination, dtype: int64"
      ]
     },
     "execution_count": 8,
     "metadata": {},
     "output_type": "execute_result"
    }
   ],
   "source": [
    "df[\"Destination\"].value_counts()"
   ]
  },
  {
   "cell_type": "code",
   "execution_count": 9,
   "metadata": {},
   "outputs": [
    {
     "data": {
      "text/plain": [
       "01/04/2023    11\n",
       "25/07/2023    11\n",
       "27/07/2023    11\n",
       "28/07/2023    11\n",
       "29/07/2023    11\n",
       "              ..\n",
       "03/06/2023    11\n",
       "04/06/2023    11\n",
       "05/06/2023    11\n",
       "06/06/2023    11\n",
       "30/09/2023    11\n",
       "Name: Date, Length: 183, dtype: int64"
      ]
     },
     "execution_count": 9,
     "metadata": {},
     "output_type": "execute_result"
    }
   ],
   "source": [
    "df[\"Date\"].value_counts()"
   ]
  },
  {
   "cell_type": "code",
   "execution_count": 10,
   "metadata": {},
   "outputs": [
    {
     "data": {
      "text/plain": [
       "None     1473\n",
       "06:30      62\n",
       "07:15      38\n",
       "06:35      36\n",
       "07:10      35\n",
       "17:25      35\n",
       "07:30      32\n",
       "17:05      31\n",
       "16:45      27\n",
       "16:20      23\n",
       "16:05      18\n",
       "15:40      18\n",
       "15:55      17\n",
       "06:50      17\n",
       "16:50      14\n",
       "12:30      13\n",
       "17:20      12\n",
       "16:00       9\n",
       "15:30       9\n",
       "07:00       9\n",
       "18:40       9\n",
       "16:30       9\n",
       "07:40       9\n",
       "16:10       8\n",
       "18:25       8\n",
       "15:35       8\n",
       "07:20       8\n",
       "17:40       5\n",
       "15:25       5\n",
       "16:15       5\n",
       "07:25       4\n",
       "15:20       4\n",
       "16:35       3\n",
       "Name: Departure time, dtype: int64"
      ]
     },
     "execution_count": 10,
     "metadata": {},
     "output_type": "execute_result"
    }
   ],
   "source": [
    "df[\"Departure time\"].value_counts()"
   ]
  },
  {
   "cell_type": "code",
   "execution_count": 11,
   "metadata": {},
   "outputs": [
    {
     "data": {
      "text/plain": [
       "None     1473\n",
       "19:55      57\n",
       "08:55      44\n",
       "09:05      31\n",
       "11:00      27\n",
       "09:10      25\n",
       "09:15      25\n",
       "18:40      25\n",
       "18:50      24\n",
       "10:00      18\n",
       "17:35      18\n",
       "18:35      18\n",
       "19:00      18\n",
       "18:45      16\n",
       "09:25      14\n",
       "19:15      14\n",
       "14:50      13\n",
       "10:20      13\n",
       "11:40      13\n",
       "11:35      13\n",
       "19:45      12\n",
       "10:30       9\n",
       "17:55       9\n",
       "09:35       9\n",
       "21:05       9\n",
       "20:20       9\n",
       "20:50       8\n",
       "18:00       8\n",
       "19:05       8\n",
       "19:35       8\n",
       "20:05       5\n",
       "18:15       5\n",
       "09:55       5\n",
       "18:10       4\n",
       "09:20       4\n",
       "19:10       2\n",
       "Name: Arrival time, dtype: int64"
      ]
     },
     "execution_count": 11,
     "metadata": {},
     "output_type": "execute_result"
    }
   ],
   "source": [
    "df[\"Arrival time\"].value_counts()"
   ]
  },
  {
   "cell_type": "code",
   "execution_count": 12,
   "metadata": {},
   "outputs": [
    {
     "data": {
      "text/plain": [
       "None      1473\n",
       "HV9007     109\n",
       "HV9003      97\n",
       "HV9009      91\n",
       "HV9033      61\n",
       "HV9211      35\n",
       "HV9209      27\n",
       "HV9061      27\n",
       "HV9121      24\n",
       "HV9005      16\n",
       "HV9031      13\n",
       "HV9011       9\n",
       "HV9015       9\n",
       "HV9023       9\n",
       "HV9021       8\n",
       "HV9013       5\n",
       "Name: Flightnumber, dtype: int64"
      ]
     },
     "execution_count": 12,
     "metadata": {},
     "output_type": "execute_result"
    }
   ],
   "source": [
    "df[\"Flightnumber\"].value_counts()"
   ]
  },
  {
   "cell_type": "code",
   "execution_count": 13,
   "metadata": {},
   "outputs": [
    {
     "data": {
      "text/plain": [
       "None    1473\n",
       "145      141\n",
       "115      126\n",
       "150       97\n",
       "170       74\n",
       "265       62\n",
       "210       27\n",
       "140       13\n",
       "Name: Duration, dtype: int64"
      ]
     },
     "execution_count": 13,
     "metadata": {},
     "output_type": "execute_result"
    }
   ],
   "source": [
    "df[\"Duration\"].value_counts()"
   ]
  },
  {
   "cell_type": "code",
   "execution_count": 14,
   "metadata": {},
   "outputs": [
    {
     "data": {
      "text/plain": [
       "None     1473\n",
       "97.0       21\n",
       "112.0      21\n",
       "87.0       19\n",
       "167.0      19\n",
       "         ... \n",
       "249.0       1\n",
       "105.0       1\n",
       "321.0       1\n",
       "202.0       1\n",
       "154.0       1\n",
       "Name: Price, Length: 98, dtype: int64"
      ]
     },
     "execution_count": 14,
     "metadata": {},
     "output_type": "execute_result"
    }
   ],
   "source": [
    "df[\"Price\"].value_counts()"
   ]
  }
 ],
 "metadata": {
  "kernelspec": {
   "display_name": "Python 3",
   "language": "python",
   "name": "python3"
  },
  "language_info": {
   "codemirror_mode": {
    "name": "ipython",
    "version": 3
   },
   "file_extension": ".py",
   "mimetype": "text/x-python",
   "name": "python",
   "nbconvert_exporter": "python",
   "pygments_lexer": "ipython3",
   "version": "3.11.0"
  },
  "orig_nbformat": 4
 },
 "nbformat": 4,
 "nbformat_minor": 2
}
