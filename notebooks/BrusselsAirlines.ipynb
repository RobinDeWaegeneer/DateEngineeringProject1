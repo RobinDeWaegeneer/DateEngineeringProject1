{
 "cells": [
  {
   "attachments": {},
   "cell_type": "markdown",
   "metadata": {},
   "source": [
    "add imports"
   ]
  },
  {
   "cell_type": "code",
   "execution_count": 1,
   "metadata": {},
   "outputs": [],
   "source": [
    "import pandas as pd\n",
    "import matplotlib.pyplot as plt"
   ]
  },
  {
   "cell_type": "code",
   "execution_count": 2,
   "metadata": {},
   "outputs": [],
   "source": [
    "df = pd.read_csv(\"../csv/BrusselsAirlines.csv\")"
   ]
  },
  {
   "cell_type": "code",
   "execution_count": 3,
   "metadata": {},
   "outputs": [
    {
     "data": {
      "text/html": [
       "<div>\n",
       "<style scoped>\n",
       "    .dataframe tbody tr th:only-of-type {\n",
       "        vertical-align: middle;\n",
       "    }\n",
       "\n",
       "    .dataframe tbody tr th {\n",
       "        vertical-align: top;\n",
       "    }\n",
       "\n",
       "    .dataframe thead th {\n",
       "        text-align: right;\n",
       "    }\n",
       "</style>\n",
       "<table border=\"1\" class=\"dataframe\">\n",
       "  <thead>\n",
       "    <tr style=\"text-align: right;\">\n",
       "      <th></th>\n",
       "      <th>Departure</th>\n",
       "      <th>Destination</th>\n",
       "      <th>Date</th>\n",
       "      <th>Departure time</th>\n",
       "      <th>Arrival time</th>\n",
       "      <th>Stops</th>\n",
       "      <th>Flightnumber</th>\n",
       "      <th>Airports</th>\n",
       "      <th>Duration</th>\n",
       "      <th>Price</th>\n",
       "    </tr>\n",
       "  </thead>\n",
       "  <tbody>\n",
       "    <tr>\n",
       "      <th>count</th>\n",
       "      <td>688</td>\n",
       "      <td>688</td>\n",
       "      <td>688</td>\n",
       "      <td>688</td>\n",
       "      <td>688</td>\n",
       "      <td>688</td>\n",
       "      <td>688</td>\n",
       "      <td>688</td>\n",
       "      <td>688</td>\n",
       "      <td>688</td>\n",
       "    </tr>\n",
       "    <tr>\n",
       "      <th>unique</th>\n",
       "      <td>1</td>\n",
       "      <td>11</td>\n",
       "      <td>30</td>\n",
       "      <td>26</td>\n",
       "      <td>71</td>\n",
       "      <td>5</td>\n",
       "      <td>131</td>\n",
       "      <td>31</td>\n",
       "      <td>84</td>\n",
       "      <td>279</td>\n",
       "    </tr>\n",
       "    <tr>\n",
       "      <th>top</th>\n",
       "      <td>brussel</td>\n",
       "      <td>napels</td>\n",
       "      <td>01/04/2023</td>\n",
       "      <td>06:55</td>\n",
       "      <td>13:55</td>\n",
       "      <td>1</td>\n",
       "      <td>['LH 5629', 'LH 1914']</td>\n",
       "      <td>['Brussels Airlines', 'Lufthansa']</td>\n",
       "      <td>455</td>\n",
       "      <td>346.58</td>\n",
       "    </tr>\n",
       "    <tr>\n",
       "      <th>freq</th>\n",
       "      <td>688</td>\n",
       "      <td>194</td>\n",
       "      <td>49</td>\n",
       "      <td>192</td>\n",
       "      <td>122</td>\n",
       "      <td>409</td>\n",
       "      <td>30</td>\n",
       "      <td>216</td>\n",
       "      <td>58</td>\n",
       "      <td>32</td>\n",
       "    </tr>\n",
       "  </tbody>\n",
       "</table>\n",
       "</div>"
      ],
      "text/plain": [
       "       Departure Destination        Date Departure time Arrival time Stops  \\\n",
       "count        688         688         688            688          688   688   \n",
       "unique         1          11          30             26           71     5   \n",
       "top      brussel      napels  01/04/2023          06:55        13:55     1   \n",
       "freq         688         194          49            192          122   409   \n",
       "\n",
       "                  Flightnumber                            Airports Duration  \\\n",
       "count                      688                                 688      688   \n",
       "unique                     131                                  31       84   \n",
       "top     ['LH 5629', 'LH 1914']  ['Brussels Airlines', 'Lufthansa']      455   \n",
       "freq                        30                                 216       58   \n",
       "\n",
       "         Price  \n",
       "count      688  \n",
       "unique     279  \n",
       "top     346.58  \n",
       "freq        32  "
      ]
     },
     "execution_count": 3,
     "metadata": {},
     "output_type": "execute_result"
    }
   ],
   "source": [
    "df.describe()"
   ]
  },
  {
   "cell_type": "code",
   "execution_count": 4,
   "metadata": {},
   "outputs": [
    {
     "name": "stdout",
     "output_type": "stream",
     "text": [
      "<class 'pandas.core.frame.DataFrame'>\n",
      "RangeIndex: 688 entries, 0 to 687\n",
      "Data columns (total 10 columns):\n",
      " #   Column          Non-Null Count  Dtype \n",
      "---  ------          --------------  ----- \n",
      " 0   Departure       688 non-null    object\n",
      " 1   Destination     688 non-null    object\n",
      " 2   Date            688 non-null    object\n",
      " 3   Departure time  688 non-null    object\n",
      " 4   Arrival time    688 non-null    object\n",
      " 5   Stops           688 non-null    object\n",
      " 6   Flightnumber    688 non-null    object\n",
      " 7   Airports        688 non-null    object\n",
      " 8   Duration        688 non-null    object\n",
      " 9   Price           688 non-null    object\n",
      "dtypes: object(10)\n",
      "memory usage: 53.9+ KB\n"
     ]
    }
   ],
   "source": [
    "df.info()"
   ]
  },
  {
   "cell_type": "code",
   "execution_count": 5,
   "metadata": {},
   "outputs": [
    {
     "data": {
      "text/html": [
       "<div>\n",
       "<style scoped>\n",
       "    .dataframe tbody tr th:only-of-type {\n",
       "        vertical-align: middle;\n",
       "    }\n",
       "\n",
       "    .dataframe tbody tr th {\n",
       "        vertical-align: top;\n",
       "    }\n",
       "\n",
       "    .dataframe thead th {\n",
       "        text-align: right;\n",
       "    }\n",
       "</style>\n",
       "<table border=\"1\" class=\"dataframe\">\n",
       "  <thead>\n",
       "    <tr style=\"text-align: right;\">\n",
       "      <th></th>\n",
       "      <th>Departure</th>\n",
       "      <th>Destination</th>\n",
       "      <th>Date</th>\n",
       "      <th>Departure time</th>\n",
       "      <th>Arrival time</th>\n",
       "      <th>Stops</th>\n",
       "      <th>Flightnumber</th>\n",
       "      <th>Airports</th>\n",
       "      <th>Duration</th>\n",
       "      <th>Price</th>\n",
       "    </tr>\n",
       "  </thead>\n",
       "  <tbody>\n",
       "    <tr>\n",
       "      <th>0</th>\n",
       "      <td>brussel</td>\n",
       "      <td>heraklion</td>\n",
       "      <td>01/04/2023</td>\n",
       "      <td>05:55</td>\n",
       "      <td>10:20</td>\n",
       "      <td>0</td>\n",
       "      <td>['SN 3255']</td>\n",
       "      <td>['Brussels Airlines']</td>\n",
       "      <td>205</td>\n",
       "      <td>392.14</td>\n",
       "    </tr>\n",
       "    <tr>\n",
       "      <th>1</th>\n",
       "      <td>brussel</td>\n",
       "      <td>heraklion</td>\n",
       "      <td>01/04/2023</td>\n",
       "      <td>06:20</td>\n",
       "      <td>14:15</td>\n",
       "      <td>1</td>\n",
       "      <td>['LX 4551', 'LX 2350']</td>\n",
       "      <td>['Brussels Airlines', 'Swiss International Air...</td>\n",
       "      <td>415</td>\n",
       "      <td>527.84</td>\n",
       "    </tr>\n",
       "    <tr>\n",
       "      <th>2</th>\n",
       "      <td>brussel</td>\n",
       "      <td>heraklion</td>\n",
       "      <td>01/04/2023</td>\n",
       "      <td>19:15</td>\n",
       "      <td>08:50</td>\n",
       "      <td>1</td>\n",
       "      <td>['LH 5589', 'LH 4420']</td>\n",
       "      <td>['Brussels Airlines', 'EW Discover']</td>\n",
       "      <td>755</td>\n",
       "      <td>726.88</td>\n",
       "    </tr>\n",
       "    <tr>\n",
       "      <th>3</th>\n",
       "      <td>brussel</td>\n",
       "      <td>heraklion</td>\n",
       "      <td>01/04/2023</td>\n",
       "      <td>19:15</td>\n",
       "      <td>10:00</td>\n",
       "      <td>1</td>\n",
       "      <td>['OS 8176', 'OS 9003']</td>\n",
       "      <td>['Brussels Airlines', 'Austrian Airlines']</td>\n",
       "      <td>825</td>\n",
       "      <td>718.38</td>\n",
       "    </tr>\n",
       "    <tr>\n",
       "      <th>4</th>\n",
       "      <td>brussel</td>\n",
       "      <td>heraklion</td>\n",
       "      <td>01/04/2023</td>\n",
       "      <td>19:15</td>\n",
       "      <td>08:50</td>\n",
       "      <td>1</td>\n",
       "      <td>['LH 5589', '4Y 1204']</td>\n",
       "      <td>['Brussels Airlines', 'EW Discover']</td>\n",
       "      <td>755</td>\n",
       "      <td>726.88</td>\n",
       "    </tr>\n",
       "    <tr>\n",
       "      <th>...</th>\n",
       "      <td>...</td>\n",
       "      <td>...</td>\n",
       "      <td>...</td>\n",
       "      <td>...</td>\n",
       "      <td>...</td>\n",
       "      <td>...</td>\n",
       "      <td>...</td>\n",
       "      <td>...</td>\n",
       "      <td>...</td>\n",
       "      <td>...</td>\n",
       "    </tr>\n",
       "    <tr>\n",
       "      <th>683</th>\n",
       "      <td>brussel</td>\n",
       "      <td>palma-de-mallorca</td>\n",
       "      <td>04/04/2023</td>\n",
       "      <td>06:55</td>\n",
       "      <td>14:05</td>\n",
       "      <td>1</td>\n",
       "      <td>['LH 5629', 'LH 5332']</td>\n",
       "      <td>['Brussels Airlines', 'EUROWINGS EUROPE LTD FO...</td>\n",
       "      <td>430</td>\n",
       "      <td>337.58</td>\n",
       "    </tr>\n",
       "    <tr>\n",
       "      <th>684</th>\n",
       "      <td>brussel</td>\n",
       "      <td>tenerife</td>\n",
       "      <td>04/04/2023</td>\n",
       "      <td>13:20</td>\n",
       "      <td>17:00</td>\n",
       "      <td>0</td>\n",
       "      <td>['SN 3781']</td>\n",
       "      <td>['Brussels Airlines']</td>\n",
       "      <td>280</td>\n",
       "      <td>366.14</td>\n",
       "    </tr>\n",
       "    <tr>\n",
       "      <th>685</th>\n",
       "      <td>brussel</td>\n",
       "      <td>tenerife</td>\n",
       "      <td>04/04/2023</td>\n",
       "      <td>06:55</td>\n",
       "      <td>16:00</td>\n",
       "      <td>2</td>\n",
       "      <td>['LH 5629', 'LH 101', 'LH 4380']</td>\n",
       "      <td>['Brussels Airlines', 'Lufthansa', 'EW Discover']</td>\n",
       "      <td>605</td>\n",
       "      <td>795.11</td>\n",
       "    </tr>\n",
       "    <tr>\n",
       "      <th>686</th>\n",
       "      <td>brussel</td>\n",
       "      <td>tenerife</td>\n",
       "      <td>04/04/2023</td>\n",
       "      <td>06:55</td>\n",
       "      <td>16:00</td>\n",
       "      <td>2</td>\n",
       "      <td>['LH 5629', 'LH 99', 'LH 4380']</td>\n",
       "      <td>['Brussels Airlines', 'Lufthansa', 'EW Discover']</td>\n",
       "      <td>605</td>\n",
       "      <td>795.11</td>\n",
       "    </tr>\n",
       "    <tr>\n",
       "      <th>687</th>\n",
       "      <td>brussel</td>\n",
       "      <td>tenerife</td>\n",
       "      <td>04/04/2023</td>\n",
       "      <td>15:00</td>\n",
       "      <td>09:55</td>\n",
       "      <td>2</td>\n",
       "      <td>['LX 4557', 'LX 2819', 'LX 8214']</td>\n",
       "      <td>['Brussels Airlines', 'Swiss International Air...</td>\n",
       "      <td>1195</td>\n",
       "      <td>527.55</td>\n",
       "    </tr>\n",
       "  </tbody>\n",
       "</table>\n",
       "<p>688 rows × 10 columns</p>\n",
       "</div>"
      ],
      "text/plain": [
       "    Departure        Destination        Date Departure time Arrival time  \\\n",
       "0     brussel          heraklion  01/04/2023          05:55        10:20   \n",
       "1     brussel          heraklion  01/04/2023          06:20        14:15   \n",
       "2     brussel          heraklion  01/04/2023          19:15        08:50   \n",
       "3     brussel          heraklion  01/04/2023          19:15        10:00   \n",
       "4     brussel          heraklion  01/04/2023          19:15        08:50   \n",
       "..        ...                ...         ...            ...          ...   \n",
       "683   brussel  palma-de-mallorca  04/04/2023          06:55        14:05   \n",
       "684   brussel           tenerife  04/04/2023          13:20        17:00   \n",
       "685   brussel           tenerife  04/04/2023          06:55        16:00   \n",
       "686   brussel           tenerife  04/04/2023          06:55        16:00   \n",
       "687   brussel           tenerife  04/04/2023          15:00        09:55   \n",
       "\n",
       "    Stops                       Flightnumber  \\\n",
       "0       0                        ['SN 3255']   \n",
       "1       1             ['LX 4551', 'LX 2350']   \n",
       "2       1             ['LH 5589', 'LH 4420']   \n",
       "3       1             ['OS 8176', 'OS 9003']   \n",
       "4       1             ['LH 5589', '4Y 1204']   \n",
       "..    ...                                ...   \n",
       "683     1             ['LH 5629', 'LH 5332']   \n",
       "684     0                        ['SN 3781']   \n",
       "685     2   ['LH 5629', 'LH 101', 'LH 4380']   \n",
       "686     2    ['LH 5629', 'LH 99', 'LH 4380']   \n",
       "687     2  ['LX 4557', 'LX 2819', 'LX 8214']   \n",
       "\n",
       "                                              Airports Duration   Price  \n",
       "0                                ['Brussels Airlines']      205  392.14  \n",
       "1    ['Brussels Airlines', 'Swiss International Air...      415  527.84  \n",
       "2                 ['Brussels Airlines', 'EW Discover']      755  726.88  \n",
       "3           ['Brussels Airlines', 'Austrian Airlines']      825  718.38  \n",
       "4                 ['Brussels Airlines', 'EW Discover']      755  726.88  \n",
       "..                                                 ...      ...     ...  \n",
       "683  ['Brussels Airlines', 'EUROWINGS EUROPE LTD FO...      430  337.58  \n",
       "684                              ['Brussels Airlines']      280  366.14  \n",
       "685  ['Brussels Airlines', 'Lufthansa', 'EW Discover']      605  795.11  \n",
       "686  ['Brussels Airlines', 'Lufthansa', 'EW Discover']      605  795.11  \n",
       "687  ['Brussels Airlines', 'Swiss International Air...     1195  527.55  \n",
       "\n",
       "[688 rows x 10 columns]"
      ]
     },
     "execution_count": 5,
     "metadata": {},
     "output_type": "execute_result"
    }
   ],
   "source": [
    "df.filter(items=[\"Departure\", \"Destination\", \"Date\", \"Departure time\", \"Arrival time\", \"Stops\", \"Flightnumber\", \"Airports\", \"Duration\", \"Price\"])"
   ]
  },
  {
   "cell_type": "code",
   "execution_count": 6,
   "metadata": {},
   "outputs": [
    {
     "data": {
      "text/plain": [
       "brussel    688\n",
       "Name: Departure, dtype: int64"
      ]
     },
     "execution_count": 6,
     "metadata": {},
     "output_type": "execute_result"
    }
   ],
   "source": [
    "df[\"Departure\"].value_counts()"
   ]
  },
  {
   "cell_type": "code",
   "execution_count": 7,
   "metadata": {},
   "outputs": [
    {
     "data": {
      "text/plain": [
       "napels               194\n",
       "palermo              131\n",
       "heraklion            109\n",
       "brindisi              83\n",
       "rhodes                71\n",
       "malaga                26\n",
       "palma-de-mallorca     23\n",
       "faro                  18\n",
       "ibiza                 14\n",
       "alicante              10\n",
       "tenerife               9\n",
       "Name: Destination, dtype: int64"
      ]
     },
     "execution_count": 7,
     "metadata": {},
     "output_type": "execute_result"
    }
   ],
   "source": [
    "df[\"Destination\"].value_counts()"
   ]
  },
  {
   "cell_type": "code",
   "execution_count": 8,
   "metadata": {},
   "outputs": [
    {
     "data": {
      "text/plain": [
       "01/04/2023    49\n",
       "02/04/2023    44\n",
       "03/04/2023    40\n",
       "04/04/2023    40\n",
       "15/04/2023    25\n",
       "22/04/2023    24\n",
       "29/04/2023    24\n",
       "08/04/2023    23\n",
       "28/04/2023    22\n",
       "14/04/2023    21\n",
       "21/04/2023    21\n",
       "13/04/2023    20\n",
       "20/04/2023    20\n",
       "09/04/2023    20\n",
       "17/04/2023    20\n",
       "18/04/2023    20\n",
       "23/04/2023    19\n",
       "25/04/2023    19\n",
       "24/04/2023    19\n",
       "16/04/2023    19\n",
       "12/04/2023    19\n",
       "07/04/2023    19\n",
       "05/04/2023    19\n",
       "19/04/2023    18\n",
       "11/04/2023    18\n",
       "10/04/2023    18\n",
       "27/04/2023    18\n",
       "30/04/2023    18\n",
       "26/04/2023    17\n",
       "06/04/2023    15\n",
       "Name: Date, dtype: int64"
      ]
     },
     "execution_count": 8,
     "metadata": {},
     "output_type": "execute_result"
    }
   ],
   "source": [
    "df[\"Date\"].value_counts()"
   ]
  },
  {
   "cell_type": "code",
   "execution_count": 9,
   "metadata": {},
   "outputs": [
    {
     "data": {
      "text/plain": [
       "06:55    192\n",
       "07:00    100\n",
       "06:20     93\n",
       "19:15     75\n",
       "19:00     70\n",
       "09:35     42\n",
       "19:20     33\n",
       "None      18\n",
       "05:55     13\n",
       "15:00     10\n",
       "06:50      6\n",
       "16:25      4\n",
       "07:35      4\n",
       "07:55      4\n",
       "13:45      4\n",
       "09:20      3\n",
       "11:55      3\n",
       "17:05      3\n",
       "06:00      2\n",
       "13:20      2\n",
       "09:15      2\n",
       "14:05      1\n",
       "15:25      1\n",
       "17:20      1\n",
       "14:15      1\n",
       "08:40      1\n",
       "Name: Departure time, dtype: int64"
      ]
     },
     "execution_count": 9,
     "metadata": {},
     "output_type": "execute_result"
    }
   ],
   "source": [
    "df[\"Departure time\"].value_counts()"
   ]
  },
  {
   "cell_type": "code",
   "execution_count": 10,
   "metadata": {},
   "outputs": [
    {
     "data": {
      "text/plain": [
       "13:55    122\n",
       "12:25     59\n",
       "22:35     58\n",
       "11:05     49\n",
       "12:05     38\n",
       "        ... \n",
       "13:50      1\n",
       "13:40      1\n",
       "15:35      1\n",
       "14:40      1\n",
       "13:25      1\n",
       "Name: Arrival time, Length: 71, dtype: int64"
      ]
     },
     "execution_count": 10,
     "metadata": {},
     "output_type": "execute_result"
    }
   ],
   "source": [
    "df[\"Arrival time\"].value_counts()"
   ]
  },
  {
   "cell_type": "code",
   "execution_count": 11,
   "metadata": {},
   "outputs": [
    {
     "data": {
      "text/plain": [
       "1       409\n",
       "2       180\n",
       "0        67\n",
       "None     18\n",
       "3        14\n",
       "Name: Stops, dtype: int64"
      ]
     },
     "execution_count": 11,
     "metadata": {},
     "output_type": "execute_result"
    }
   ],
   "source": [
    "df[\"Stops\"].value_counts()"
   ]
  },
  {
   "cell_type": "code",
   "execution_count": 12,
   "metadata": {},
   "outputs": [
    {
     "data": {
      "text/plain": [
       "['LH 5629', 'LH 1914']               30\n",
       "['LX 4551', 'LX 2807', 'LX 1722']    29\n",
       "['SN 3169']                          29\n",
       "['LH 5631', 'LH 1880']               29\n",
       "['SN 2647', 'SN 7181']               29\n",
       "                                     ..\n",
       "['LH 5629', 'LH 1796']                1\n",
       "['LH 5629', 'LH 5334']                1\n",
       "['LH 5629', 'LH 1838']                1\n",
       "['LX 4551', 'LX 2807', 'LX 8216']     1\n",
       "['LH 5629', 'LH 99', 'LH 4380']       1\n",
       "Name: Flightnumber, Length: 131, dtype: int64"
      ]
     },
     "execution_count": 12,
     "metadata": {},
     "output_type": "execute_result"
    }
   ],
   "source": [
    "df[\"Flightnumber\"].value_counts()"
   ]
  },
  {
   "cell_type": "code",
   "execution_count": 13,
   "metadata": {},
   "outputs": [
    {
     "data": {
      "text/plain": [
       "['Brussels Airlines', 'Lufthansa']                                                          216\n",
       "['Brussels Airlines', 'EW Discover']                                                         87\n",
       "['Brussels Airlines']                                                                        67\n",
       "['Brussels Airlines', 'Swiss International Air Lines', 'Swiss International Air Lines']      42\n",
       "['Brussels Airlines', 'Swiss International Air Lines']                                       36\n",
       "['Brussels Airlines', 'Lufthansa', 'EW Discover']                                            29\n",
       "['Brussels Airlines', 'Lufthansa', 'Lufthansa']                                              27\n",
       "['Brussels Airlines', 'Swiss International Air Lines', 'Air Baltic']                         26\n",
       "['Brussels Airlines', 'Austrian Airlines']                                                   22\n",
       "None                                                                                         18\n",
       "['Brussels Airlines', 'Swiss International Air Lines', 'Edelweiss Air']                      16\n",
       "['Brussels Airlines', 'Air Baltic']                                                          13\n",
       "['Brussels Airlines', 'Swiss International Air Lines', 'Edelweiss Air', 'Edelweiss Air']     12\n",
       "['Brussels Airlines', 'SWISS RAILWAYS', 'Air Baltic']                                        11\n",
       "['Brussels Airlines', 'Edelweiss Air']                                                       10\n",
       "['Brussels Airlines', 'Aegean Airlines']                                                      9\n",
       "['Brussels Airlines', 'SWISS RAILWAYS', 'Swiss International Air Lines']                      6\n",
       "['Brussels Airlines', 'Swiss International Air Lines', 'Helvetic Airways']                    6\n",
       "['Brussels Airlines', 'SWISS RAILWAYS', 'Helvetic Airways']                                   6\n",
       "['Brussels Airlines', 'Tap Air Portugal']                                                     5\n",
       "['Brussels Airlines', 'Eurowings']                                                            4\n",
       "['Brussels Airlines', 'Lufthansa', 'Aegean Airlines']                                         4\n",
       "['Brussels Airlines', 'EUROWINGS EUROPE LTD FOR EUROWINGS']                                   3\n",
       "['Brussels Airlines', 'Edelweiss Air', 'Edelweiss Air']                                       3\n",
       "['Brussels Airlines', 'SWISS RAILWAYS', 'Edelweiss Air', 'Edelweiss Air']                     2\n",
       "['Brussels Airlines', 'SWISS RAILWAYS', 'Edelweiss Air']                                      2\n",
       "['Brussels Airlines', 'Helvetic Airways']                                                     2\n",
       "['Brussels Airlines', 'Lufthansa Cityline']                                                   1\n",
       "['Brussels Airlines', 'Lufthansa', 'Lufthansa Cityline']                                      1\n",
       "['Brussels Airlines', 'Lufthansa', 'Tap Air Portugal']                                        1\n",
       "['Brussels Airlines', 'AVION EXPRESS MALTA FOR EUROWINGS']                                    1\n",
       "Name: Airports, dtype: int64"
      ]
     },
     "execution_count": 13,
     "metadata": {},
     "output_type": "execute_result"
    }
   ],
   "source": [
    "df[\"Airports\"].value_counts()"
   ]
  },
  {
   "cell_type": "code",
   "execution_count": 14,
   "metadata": {},
   "outputs": [
    {
     "data": {
      "text/plain": [
       "455     58\n",
       "215     58\n",
       "330     54\n",
       "420     42\n",
       "305     39\n",
       "        ..\n",
       "135      1\n",
       "160      1\n",
       "825      1\n",
       "595      1\n",
       "1195     1\n",
       "Name: Duration, Length: 84, dtype: int64"
      ]
     },
     "execution_count": 14,
     "metadata": {},
     "output_type": "execute_result"
    }
   ],
   "source": [
    "df[\"Duration\"].value_counts()"
   ]
  },
  {
   "cell_type": "code",
   "execution_count": 15,
   "metadata": {},
   "outputs": [
    {
     "data": {
      "text/plain": [
       "346.58    32\n",
       "184.58    21\n",
       "149.58    21\n",
       "None      18\n",
       "275.58    15\n",
       "          ..\n",
       "349.67     1\n",
       "673.67     1\n",
       "609.38     1\n",
       "556.05     1\n",
       "527.55     1\n",
       "Name: Price, Length: 279, dtype: int64"
      ]
     },
     "execution_count": 15,
     "metadata": {},
     "output_type": "execute_result"
    }
   ],
   "source": [
    "df[\"Price\"].value_counts()"
   ]
  }
 ],
 "metadata": {
  "kernelspec": {
   "display_name": "Python 3",
   "language": "python",
   "name": "python3"
  },
  "language_info": {
   "codemirror_mode": {
    "name": "ipython",
    "version": 3
   },
   "file_extension": ".py",
   "mimetype": "text/x-python",
   "name": "python",
   "nbconvert_exporter": "python",
   "pygments_lexer": "ipython3",
   "version": "3.11.0"
  },
  "orig_nbformat": 4
 },
 "nbformat": 4,
 "nbformat_minor": 2
}
