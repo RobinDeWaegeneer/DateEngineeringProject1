{
 "cells": [
  {
   "attachments": {},
   "cell_type": "markdown",
   "metadata": {},
   "source": [
    "# **Analyse in Pandas en PowerBI**\n",
    "Groep 8"
   ]
  },
  {
   "attachments": {},
   "cell_type": "markdown",
   "metadata": {},
   "source": [
    "***Airport iata codes*** <br>\n",
    "**FR** = Ryanair <br>\n",
    "**SN** = Brussels Airlines <br>\n",
    "**HV** = Transavia <br>\n",
    "**TB** = Tui"
   ]
  },
  {
   "cell_type": "code",
   "execution_count": 2,
   "metadata": {},
   "outputs": [
    {
     "data": {
      "text/plain": [
       "True"
      ]
     },
     "execution_count": 2,
     "metadata": {},
     "output_type": "execute_result"
    }
   ],
   "source": [
    "import os\n",
    "import csv\n",
    "import sys\n",
    "import warnings\n",
    "import datetime\n",
    "import numpy as np\n",
    "import pandas as pd\n",
    "import seaborn as sns\n",
    "import matplotlib.pyplot as plt\n",
    "import mysql.connector as sql\n",
    "from dotenv import load_dotenv\n",
    "from sklearn.linear_model import LinearRegression\n",
    "\n",
    "warnings.filterwarnings('ignore')\n",
    "\n",
    "dotenv_path = \"../.env\"\n",
    "load_dotenv(dotenv_path)"
   ]
  },
  {
   "attachments": {},
   "cell_type": "markdown",
   "metadata": {},
   "source": [
    "## Data"
   ]
  },
  {
   "attachments": {},
   "cell_type": "markdown",
   "metadata": {},
   "source": [
    "### CSV (overbodig)"
   ]
  },
  {
   "cell_type": "code",
   "execution_count": null,
   "metadata": {},
   "outputs": [],
   "source": [
    "folder = 'C:\\\\ProgramData\\\\MySQL\\\\MySQL Server 8.0\\\\Uploads\\\\'\n",
    "files = os.listdir(folder)"
   ]
  },
  {
   "cell_type": "code",
   "execution_count": null,
   "metadata": {},
   "outputs": [],
   "source": [
    "# create new dataframe\n",
    "allData = pd.DataFrame()\n",
    "\n",
    "# loop through files and append to dataframe\n",
    "for i, file in enumerate(files):\n",
    "    filepath = os.path.join(folder, file)\n",
    "    df = pd.read_csv(filepath, skiprows=0)\n",
    "    allData = allData.append(df, ignore_index=True)\n",
    "\n",
    "# save to csv\n",
    "allData.to_csv('../analyse/allData.csv', index=False)"
   ]
  },
  {
   "attachments": {},
   "cell_type": "markdown",
   "metadata": {},
   "source": [
    "### Datawarehouse MySQL Workbench"
   ]
  },
  {
   "cell_type": "code",
   "execution_count": 3,
   "metadata": {},
   "outputs": [
    {
     "name": "stdout",
     "output_type": "stream",
     "text": [
      "<mysql.connector.connection_cext.CMySQLConnection object at 0x00000266BADDFA90>\n"
     ]
    }
   ],
   "source": [
    "# make a connection to the database\n",
    "dwh = sql.connect(\n",
    "    host=\"127.0.0.1\",   # ip-adres\n",
    "    port=3306,   # poortnummer\n",
    "    user=os.getenv(\"USER\"),   # username\n",
    "    password=os.getenv(\"PASSWORD\"),   # wachtwoord\n",
    "    database=\"AirFaresDWH\"   # naam van de datawarehouse in mysql workbench\n",
    "    # database=\"groep8dep\"   # naam van de OLTP database in mysql workbench\n",
    ")\n",
    "\n",
    "# check if the connection succeeded\n",
    "print(dwh)"
   ]
  },
  {
   "cell_type": "code",
   "execution_count": 4,
   "metadata": {},
   "outputs": [
    {
     "name": "stdout",
     "output_type": "stream",
     "text": [
      "Index(['flightfare_key', 'flight_key', 'airline_key', 'depatureAirportKey',\n",
      "       'arrivalAirportKey', 'scrapeDateKey', 'departureDateKey',\n",
      "       'arrivalDateKey', 'availableSeats', 'price', 'flight_key', 'flight_id',\n",
      "       'flightnumber', 'numberOfStops', 'departureTime', 'arrivalTime',\n",
      "       'duration', 'start_date', 'end_date', 'airline_key',\n",
      "       'airline_iata_code', 'airline_name', 'country', 'airport_key',\n",
      "       'airport_iata_code', 'airport_name', 'location', 'country',\n",
      "       'airport_key', 'airport_iata_code', 'airport_name', 'location',\n",
      "       'country', 'date_key', 'date', 'day_of_week', 'day_of_month',\n",
      "       'day_of_year', 'year', 'dayName', 'monthName', 'nameOfQuarter',\n",
      "       'numberOfQuarter', 'isWeekend', 'isWeekDay', 'isHoliday', 'date_key',\n",
      "       'date', 'day_of_week', 'day_of_month', 'day_of_year', 'year', 'dayName',\n",
      "       'monthName', 'nameOfQuarter', 'numberOfQuarter', 'isWeekend',\n",
      "       'isWeekDay', 'isHoliday', 'date_key', 'date', 'day_of_week',\n",
      "       'day_of_month', 'day_of_year', 'year', 'dayName', 'monthName',\n",
      "       'nameOfQuarter', 'numberOfQuarter', 'isWeekend', 'isWeekDay',\n",
      "       'isHoliday'],\n",
      "      dtype='object')\n"
     ]
    },
    {
     "data": {
      "text/html": [
       "<div>\n",
       "<style scoped>\n",
       "    .dataframe tbody tr th:only-of-type {\n",
       "        vertical-align: middle;\n",
       "    }\n",
       "\n",
       "    .dataframe tbody tr th {\n",
       "        vertical-align: top;\n",
       "    }\n",
       "\n",
       "    .dataframe thead th {\n",
       "        text-align: right;\n",
       "    }\n",
       "</style>\n",
       "<table border=\"1\" class=\"dataframe\">\n",
       "  <thead>\n",
       "    <tr style=\"text-align: right;\">\n",
       "      <th></th>\n",
       "      <th>flightfare_key</th>\n",
       "      <th>flight_key</th>\n",
       "      <th>airline_key</th>\n",
       "      <th>depatureAirportKey</th>\n",
       "      <th>arrivalAirportKey</th>\n",
       "      <th>scrapeDateKey</th>\n",
       "      <th>departureDateKey</th>\n",
       "      <th>arrivalDateKey</th>\n",
       "      <th>availableSeats</th>\n",
       "      <th>price</th>\n",
       "      <th>...</th>\n",
       "      <th>day_of_month</th>\n",
       "      <th>day_of_year</th>\n",
       "      <th>year</th>\n",
       "      <th>dayName</th>\n",
       "      <th>monthName</th>\n",
       "      <th>nameOfQuarter</th>\n",
       "      <th>numberOfQuarter</th>\n",
       "      <th>isWeekend</th>\n",
       "      <th>isWeekDay</th>\n",
       "      <th>isHoliday</th>\n",
       "    </tr>\n",
       "  </thead>\n",
       "  <tbody>\n",
       "    <tr>\n",
       "      <th>0</th>\n",
       "      <td>1</td>\n",
       "      <td>641</td>\n",
       "      <td>1</td>\n",
       "      <td>7</td>\n",
       "      <td>4</td>\n",
       "      <td>20230420</td>\n",
       "      <td>20230522</td>\n",
       "      <td>20230522</td>\n",
       "      <td>-1</td>\n",
       "      <td>21.99</td>\n",
       "      <td>...</td>\n",
       "      <td>22</td>\n",
       "      <td>142</td>\n",
       "      <td>2023</td>\n",
       "      <td>Monday</td>\n",
       "      <td>May</td>\n",
       "      <td>Q2</td>\n",
       "      <td>2</td>\n",
       "      <td>0</td>\n",
       "      <td>1</td>\n",
       "      <td>0</td>\n",
       "    </tr>\n",
       "    <tr>\n",
       "      <th>1</th>\n",
       "      <td>2</td>\n",
       "      <td>13</td>\n",
       "      <td>1</td>\n",
       "      <td>5</td>\n",
       "      <td>1</td>\n",
       "      <td>20230420</td>\n",
       "      <td>20230521</td>\n",
       "      <td>20230521</td>\n",
       "      <td>3</td>\n",
       "      <td>90.73</td>\n",
       "      <td>...</td>\n",
       "      <td>21</td>\n",
       "      <td>141</td>\n",
       "      <td>2023</td>\n",
       "      <td>Sunday</td>\n",
       "      <td>May</td>\n",
       "      <td>Q2</td>\n",
       "      <td>2</td>\n",
       "      <td>1</td>\n",
       "      <td>0</td>\n",
       "      <td>0</td>\n",
       "    </tr>\n",
       "    <tr>\n",
       "      <th>2</th>\n",
       "      <td>3</td>\n",
       "      <td>171</td>\n",
       "      <td>1</td>\n",
       "      <td>7</td>\n",
       "      <td>1</td>\n",
       "      <td>20230420</td>\n",
       "      <td>20230521</td>\n",
       "      <td>20230521</td>\n",
       "      <td>2</td>\n",
       "      <td>83.79</td>\n",
       "      <td>...</td>\n",
       "      <td>21</td>\n",
       "      <td>141</td>\n",
       "      <td>2023</td>\n",
       "      <td>Sunday</td>\n",
       "      <td>May</td>\n",
       "      <td>Q2</td>\n",
       "      <td>2</td>\n",
       "      <td>1</td>\n",
       "      <td>0</td>\n",
       "      <td>0</td>\n",
       "    </tr>\n",
       "    <tr>\n",
       "      <th>3</th>\n",
       "      <td>4</td>\n",
       "      <td>1114</td>\n",
       "      <td>1</td>\n",
       "      <td>7</td>\n",
       "      <td>10</td>\n",
       "      <td>20230420</td>\n",
       "      <td>20230521</td>\n",
       "      <td>20230521</td>\n",
       "      <td>-1</td>\n",
       "      <td>93.36</td>\n",
       "      <td>...</td>\n",
       "      <td>21</td>\n",
       "      <td>141</td>\n",
       "      <td>2023</td>\n",
       "      <td>Sunday</td>\n",
       "      <td>May</td>\n",
       "      <td>Q2</td>\n",
       "      <td>2</td>\n",
       "      <td>1</td>\n",
       "      <td>0</td>\n",
       "      <td>0</td>\n",
       "    </tr>\n",
       "    <tr>\n",
       "      <th>4</th>\n",
       "      <td>5</td>\n",
       "      <td>375</td>\n",
       "      <td>1</td>\n",
       "      <td>7</td>\n",
       "      <td>2</td>\n",
       "      <td>20230420</td>\n",
       "      <td>20230521</td>\n",
       "      <td>20230521</td>\n",
       "      <td>4</td>\n",
       "      <td>132.94</td>\n",
       "      <td>...</td>\n",
       "      <td>21</td>\n",
       "      <td>141</td>\n",
       "      <td>2023</td>\n",
       "      <td>Sunday</td>\n",
       "      <td>May</td>\n",
       "      <td>Q2</td>\n",
       "      <td>2</td>\n",
       "      <td>1</td>\n",
       "      <td>0</td>\n",
       "      <td>0</td>\n",
       "    </tr>\n",
       "    <tr>\n",
       "      <th>...</th>\n",
       "      <td>...</td>\n",
       "      <td>...</td>\n",
       "      <td>...</td>\n",
       "      <td>...</td>\n",
       "      <td>...</td>\n",
       "      <td>...</td>\n",
       "      <td>...</td>\n",
       "      <td>...</td>\n",
       "      <td>...</td>\n",
       "      <td>...</td>\n",
       "      <td>...</td>\n",
       "      <td>...</td>\n",
       "      <td>...</td>\n",
       "      <td>...</td>\n",
       "      <td>...</td>\n",
       "      <td>...</td>\n",
       "      <td>...</td>\n",
       "      <td>...</td>\n",
       "      <td>...</td>\n",
       "      <td>...</td>\n",
       "      <td>...</td>\n",
       "    </tr>\n",
       "    <tr>\n",
       "      <th>252716</th>\n",
       "      <td>259268</td>\n",
       "      <td>13690</td>\n",
       "      <td>4</td>\n",
       "      <td>13</td>\n",
       "      <td>17</td>\n",
       "      <td>20230426</td>\n",
       "      <td>20230712</td>\n",
       "      <td>20230712</td>\n",
       "      <td>-1</td>\n",
       "      <td>309.99</td>\n",
       "      <td>...</td>\n",
       "      <td>12</td>\n",
       "      <td>193</td>\n",
       "      <td>2023</td>\n",
       "      <td>Wednesday</td>\n",
       "      <td>July</td>\n",
       "      <td>Q3</td>\n",
       "      <td>3</td>\n",
       "      <td>0</td>\n",
       "      <td>1</td>\n",
       "      <td>1</td>\n",
       "    </tr>\n",
       "    <tr>\n",
       "      <th>252717</th>\n",
       "      <td>259269</td>\n",
       "      <td>13690</td>\n",
       "      <td>4</td>\n",
       "      <td>13</td>\n",
       "      <td>17</td>\n",
       "      <td>20230430</td>\n",
       "      <td>20230712</td>\n",
       "      <td>20230712</td>\n",
       "      <td>-1</td>\n",
       "      <td>319.99</td>\n",
       "      <td>...</td>\n",
       "      <td>12</td>\n",
       "      <td>193</td>\n",
       "      <td>2023</td>\n",
       "      <td>Wednesday</td>\n",
       "      <td>July</td>\n",
       "      <td>Q3</td>\n",
       "      <td>3</td>\n",
       "      <td>0</td>\n",
       "      <td>1</td>\n",
       "      <td>1</td>\n",
       "    </tr>\n",
       "    <tr>\n",
       "      <th>252718</th>\n",
       "      <td>259270</td>\n",
       "      <td>13690</td>\n",
       "      <td>4</td>\n",
       "      <td>13</td>\n",
       "      <td>17</td>\n",
       "      <td>20230423</td>\n",
       "      <td>20230712</td>\n",
       "      <td>20230712</td>\n",
       "      <td>-1</td>\n",
       "      <td>309.99</td>\n",
       "      <td>...</td>\n",
       "      <td>12</td>\n",
       "      <td>193</td>\n",
       "      <td>2023</td>\n",
       "      <td>Wednesday</td>\n",
       "      <td>July</td>\n",
       "      <td>Q3</td>\n",
       "      <td>3</td>\n",
       "      <td>0</td>\n",
       "      <td>1</td>\n",
       "      <td>1</td>\n",
       "    </tr>\n",
       "    <tr>\n",
       "      <th>252719</th>\n",
       "      <td>259271</td>\n",
       "      <td>13690</td>\n",
       "      <td>4</td>\n",
       "      <td>13</td>\n",
       "      <td>17</td>\n",
       "      <td>20230418</td>\n",
       "      <td>20230712</td>\n",
       "      <td>20230712</td>\n",
       "      <td>-1</td>\n",
       "      <td>309.99</td>\n",
       "      <td>...</td>\n",
       "      <td>12</td>\n",
       "      <td>193</td>\n",
       "      <td>2023</td>\n",
       "      <td>Wednesday</td>\n",
       "      <td>July</td>\n",
       "      <td>Q3</td>\n",
       "      <td>3</td>\n",
       "      <td>0</td>\n",
       "      <td>1</td>\n",
       "      <td>1</td>\n",
       "    </tr>\n",
       "    <tr>\n",
       "      <th>252720</th>\n",
       "      <td>259272</td>\n",
       "      <td>13690</td>\n",
       "      <td>4</td>\n",
       "      <td>13</td>\n",
       "      <td>17</td>\n",
       "      <td>20230411</td>\n",
       "      <td>20230712</td>\n",
       "      <td>20230712</td>\n",
       "      <td>-1</td>\n",
       "      <td>309.99</td>\n",
       "      <td>...</td>\n",
       "      <td>12</td>\n",
       "      <td>193</td>\n",
       "      <td>2023</td>\n",
       "      <td>Wednesday</td>\n",
       "      <td>July</td>\n",
       "      <td>Q3</td>\n",
       "      <td>3</td>\n",
       "      <td>0</td>\n",
       "      <td>1</td>\n",
       "      <td>1</td>\n",
       "    </tr>\n",
       "  </tbody>\n",
       "</table>\n",
       "<p>252721 rows × 72 columns</p>\n",
       "</div>"
      ],
      "text/plain": [
       "        flightfare_key  flight_key  airline_key  depatureAirportKey  \\\n",
       "0                    1         641            1                   7   \n",
       "1                    2          13            1                   5   \n",
       "2                    3         171            1                   7   \n",
       "3                    4        1114            1                   7   \n",
       "4                    5         375            1                   7   \n",
       "...                ...         ...          ...                 ...   \n",
       "252716          259268       13690            4                  13   \n",
       "252717          259269       13690            4                  13   \n",
       "252718          259270       13690            4                  13   \n",
       "252719          259271       13690            4                  13   \n",
       "252720          259272       13690            4                  13   \n",
       "\n",
       "        arrivalAirportKey  scrapeDateKey  departureDateKey  arrivalDateKey  \\\n",
       "0                       4       20230420          20230522        20230522   \n",
       "1                       1       20230420          20230521        20230521   \n",
       "2                       1       20230420          20230521        20230521   \n",
       "3                      10       20230420          20230521        20230521   \n",
       "4                       2       20230420          20230521        20230521   \n",
       "...                   ...            ...               ...             ...   \n",
       "252716                 17       20230426          20230712        20230712   \n",
       "252717                 17       20230430          20230712        20230712   \n",
       "252718                 17       20230423          20230712        20230712   \n",
       "252719                 17       20230418          20230712        20230712   \n",
       "252720                 17       20230411          20230712        20230712   \n",
       "\n",
       "        availableSeats   price  ...  day_of_month day_of_year  year  \\\n",
       "0                   -1   21.99  ...            22         142  2023   \n",
       "1                    3   90.73  ...            21         141  2023   \n",
       "2                    2   83.79  ...            21         141  2023   \n",
       "3                   -1   93.36  ...            21         141  2023   \n",
       "4                    4  132.94  ...            21         141  2023   \n",
       "...                ...     ...  ...           ...         ...   ...   \n",
       "252716              -1  309.99  ...            12         193  2023   \n",
       "252717              -1  319.99  ...            12         193  2023   \n",
       "252718              -1  309.99  ...            12         193  2023   \n",
       "252719              -1  309.99  ...            12         193  2023   \n",
       "252720              -1  309.99  ...            12         193  2023   \n",
       "\n",
       "          dayName monthName nameOfQuarter numberOfQuarter isWeekend isWeekDay  \\\n",
       "0          Monday       May            Q2               2         0         1   \n",
       "1          Sunday       May            Q2               2         1         0   \n",
       "2          Sunday       May            Q2               2         1         0   \n",
       "3          Sunday       May            Q2               2         1         0   \n",
       "4          Sunday       May            Q2               2         1         0   \n",
       "...           ...       ...           ...             ...       ...       ...   \n",
       "252716  Wednesday      July            Q3               3         0         1   \n",
       "252717  Wednesday      July            Q3               3         0         1   \n",
       "252718  Wednesday      July            Q3               3         0         1   \n",
       "252719  Wednesday      July            Q3               3         0         1   \n",
       "252720  Wednesday      July            Q3               3         0         1   \n",
       "\n",
       "        isHoliday  \n",
       "0               0  \n",
       "1               0  \n",
       "2               0  \n",
       "3               0  \n",
       "4               0  \n",
       "...           ...  \n",
       "252716          1  \n",
       "252717          1  \n",
       "252718          1  \n",
       "252719          1  \n",
       "252720          1  \n",
       "\n",
       "[252721 rows x 72 columns]"
      ]
     },
     "execution_count": 4,
     "metadata": {},
     "output_type": "execute_result"
    }
   ],
   "source": [
    "# create cursor\n",
    "cursor = dwh.cursor()\n",
    "\n",
    "# use the right database\n",
    "cursor.execute(\"USE AirFaresDWH\")\n",
    "\n",
    "# get the column names\n",
    "cursor.execute(\"SELECT COLUMN_NAME FROM INFORMATION_SCHEMA.COLUMNS WHERE TABLE_NAME = 'dimairline'\")\n",
    "columns_airline = cursor.fetchall()\n",
    "\n",
    "cursor.execute(\"SELECT COLUMN_NAME FROM INFORMATION_SCHEMA.COLUMNS WHERE TABLE_NAME = 'dimairport'\")\n",
    "columns_airport = cursor.fetchall()\n",
    "\n",
    "cursor.execute(\"SELECT COLUMN_NAME FROM INFORMATION_SCHEMA.COLUMNS WHERE TABLE_NAME = 'dimdate'\")\n",
    "columns_date = cursor.fetchall()\n",
    "\n",
    "cursor.execute(\"SELECT COLUMN_NAME FROM INFORMATION_SCHEMA.COLUMNS WHERE TABLE_NAME = 'dimflight'\")\n",
    "columns_flight = cursor.fetchall()\n",
    "\n",
    "cursor.execute(\"SELECT COLUMN_NAME FROM INFORMATION_SCHEMA.COLUMNS WHERE TABLE_NAME = 'factflightfare'\")\n",
    "columns_fact = cursor.fetchall()\n",
    "\n",
    "\n",
    "# get all the data\n",
    "cursor.execute(\"SELECT * FROM dimairline\")\n",
    "rows_airline = cursor.fetchall()\n",
    "\n",
    "cursor.execute(\"SELECT * FROM dimairport\")\n",
    "rows_airport = cursor.fetchall()\n",
    "\n",
    "cursor.execute(\"SELECT * FROM dimdate\")\n",
    "rows_date = cursor.fetchall()\n",
    "\n",
    "cursor.execute(\"SELECT * FROM dimflight\")\n",
    "rows_flight = cursor.fetchall()\n",
    "\n",
    "cursor.execute(\"SELECT * FROM factflightfare\")\n",
    "rows_fact = cursor.fetchall()\n",
    "\n",
    "\n",
    "# remove the first line with null values\n",
    "rows_airline = rows_airline[1:]\n",
    "rows_airport = rows_airport[1:]\n",
    "rows_date = rows_date[1:]\n",
    "rows_flight = rows_flight[1:]\n",
    "rows_fact = rows_fact[1:]\n",
    "\n",
    "# create dataframes\n",
    "df_airline = pd.DataFrame(rows_airline, columns=[i[0] for i in columns_airline])\n",
    "df_airport = pd.DataFrame(rows_airport, columns=[i[0] for i in columns_airport])\n",
    "df_date = pd.DataFrame(rows_date, columns=[i[0] for i in columns_date])\n",
    "df_flight = pd.DataFrame(rows_flight, columns=[i[0] for i in columns_flight])\n",
    "df_fact = pd.DataFrame(rows_fact, columns=[i[0] for i in columns_fact])\n",
    "\n",
    "# create a new dataframe with all the data\n",
    "# df = pd.merge(df_fact, df_flight, on='flight_key')\n",
    "# df = pd.merge(df, df_airline, on='airline_key')\n",
    "# df = pd.merge(df, df_airport, left_on='depatureAirportKey', right_on='airport_key')\n",
    "# df = pd.merge(df, df_airport, left_on='arrivalAirportKey', right_on='airport_key', how='inner')\n",
    "# df = pd.merge(df, df_date, left_on='scrapeDateKey', right_on='date_key')\n",
    "# df = pd.merge(df, df_date, left_on='departureDateKey', right_on='date_key')\n",
    "# df = pd.merge(df, df_date, left_on='arrivalDateKey', right_on='date_key')\n",
    "\n",
    "# create the query to connect the tables\n",
    "query = \"\"\"\n",
    "SELECT * FROM factflightfare\n",
    "INNER JOIN dimflight ON factflightfare.flight_key = dimflight.flight_key\n",
    "INNER JOIN dimairline ON factflightfare.airline_key = dimairline.airline_key\n",
    "INNER JOIN dimairport AS dep_airport ON factflightfare.depatureAirportKey = dep_airport.airport_key\n",
    "INNER JOIN dimairport AS arr_airport ON factflightfare.arrivalAirportKey = arr_airport.airport_key\n",
    "INNER JOIN dimdate AS scrape_date ON factflightfare.scrapeDateKey = scrape_date.date_key\n",
    "INNER JOIN dimdate AS dep_date ON factflightfare.departureDateKey = dep_date.date_key\n",
    "INNER JOIN dimdate AS arr_date ON factflightfare.arrivalDateKey = arr_date.date_key\n",
    "\"\"\"\n",
    "\n",
    "# create the dataframe\n",
    "df = pd.read_sql(query, dwh)\n",
    "\n",
    "# show the columns of the df\n",
    "print(df.columns)\n",
    "\n",
    "# show the df\n",
    "df"
   ]
  },
  {
   "attachments": {},
   "cell_type": "markdown",
   "metadata": {},
   "source": [
    "## Questions"
   ]
  },
  {
   "attachments": {},
   "cell_type": "markdown",
   "metadata": {},
   "source": [
    "### 1) Welke vliegtuigmaatschappij is gemiddeld de goedkoopste / de duurste?"
   ]
  },
  {
   "attachments": {},
   "cell_type": "markdown",
   "metadata": {},
   "source": [
    "Kan zowel in Python als in PowerBI"
   ]
  },
  {
   "cell_type": "code",
   "execution_count": 5,
   "metadata": {},
   "outputs": [
    {
     "name": "stdout",
     "output_type": "stream",
     "text": [
      "De goedkoopste vliegtuigmaatschappij is FR met een gemiddelde prijs van 114.36 euro.\n",
      "De duurste vliegtuigmaatschappij is TB met een gemiddelde prijs van 201.22 euro.\n"
     ]
    },
    {
     "data": {
      "image/png": "[encoded data removed]",
      "text/plain": [
       "<Figure size 640x480 with 1 Axes>"
      ]
     },
     "metadata": {},
     "output_type": "display_data"
    }
   ],
   "source": [
    "# read the data\n",
    "data = df\n",
    "\n",
    "# group the data by airline and calculate the average price\n",
    "grouped_data = data.groupby(['airline_iata_code'])['price'].mean()\n",
    "sorted_data = grouped_data.sort_values()\n",
    "\n",
    "# print the results\n",
    "print(\"De goedkoopste vliegtuigmaatschappij is \" + sorted_data.index[0] + \" met een gemiddelde prijs van\", round(sorted_data[0], 2), \"euro.\")\n",
    "print(\"De duurste vliegtuigmaatschappij is \" + sorted_data.index[-1] + \" met een gemiddelde prijs van\", round(sorted_data[-1], 2), \"euro.\")\n",
    "\n",
    "# plot the results\n",
    "grouped_data.plot(kind='bar', colormap='Pastel2')\n",
    "plt.title('Gemiddelde prijs per airline')\n",
    "plt.xlabel('Airline')\n",
    "plt.ylabel('Gemiddelde prijs (€)')\n",
    "plt.show()"
   ]
  },
  {
   "attachments": {},
   "cell_type": "markdown",
   "metadata": {},
   "source": [
    "### 2) Hoe vaak vliegt elke vliegtuigmaatschappij per week naar elk van de bestemmingen?"
   ]
  },
  {
   "attachments": {},
   "cell_type": "markdown",
   "metadata": {},
   "source": [
    "Kan zowel in Python als in PowerBI"
   ]
  },
  {
   "cell_type": "code",
   "execution_count": 6,
   "metadata": {},
   "outputs": [
    {
     "name": "stdout",
     "output_type": "stream",
     "text": [
      "De vliegtuigmaatschappij FR heeft 92896 in totaal.\n",
      "De vliegtuigmaatschappij HV heeft 25469 in totaal.\n",
      "De vliegtuigmaatschappij TB heeft 134356 in totaal.\n"
     ]
    }
   ],
   "source": [
    "# read the data\n",
    "data = df\n",
    "\n",
    "# add new column for weekday\n",
    "data['weekday'] = pd.to_datetime(data['departureDateKey']).dt.day_name()\n",
    "\n",
    "# group the data by airline and destination + count the number of flights per week\n",
    "grouped_data = data.groupby(['airline_iata_code', 'arrivalAirportKey', 'weekday']).size().reset_index(name='countOfFlights')\n",
    "\n",
    "pivoted_data = pd.pivot_table(grouped_data, values='countOfFlights', index=['airline_iata_code'], columns=['arrivalAirportKey', 'weekday'], fill_value=0)\n",
    "\n",
    "sorted_data = pivoted_data.sort_values(by=['airline_iata_code'])\n",
    "\n",
    "pd.DataFrame(sorted_data)\n",
    "\n",
    "for i in range(len(sorted_data)):\n",
    "    print(\"De vliegtuigmaatschappij \" + sorted_data.index[i] + \" heeft\", sorted_data.iloc[i].sum(), \"in totaal.\")"
   ]
  },
  {
   "cell_type": "code",
   "execution_count": 14,
   "metadata": {},
   "outputs": [
    {
     "name": "stdout",
     "output_type": "stream",
     "text": [
      "Airline                 1         2         4         6         8         9        10        12        14        15        16        17\n",
      "FR                  15524     15011      5418      3811     12041      2335      4543     10384     10011      5743      3467      4608\n",
      "TB                  25572     25756      2132      4559      2637     12912      9734      2232     16087      2232     10657     19846\n",
      "HV                   3995      6698         0         0      5947      2768      4691         0         0         0         0      1370\n"
     ]
    }
   ],
   "source": [
    "# read the data\n",
    "data = df\n",
    "\n",
    "# iterate over the data and add to array\n",
    "dataArr = []\n",
    "for i in range(len(data)):\n",
    "    dataArr.append(data.iloc[i])\n",
    "\n",
    "# create dictionary to hold count of flights per airline and destination\n",
    "flights_count = {}\n",
    "\n",
    "# iterate over flights and update count in dictionary\n",
    "for flight in dataArr:\n",
    "    airline = flight['airline_iata_code']\n",
    "    destination = flight['arrivalAirportKey']\n",
    "    if airline not in flights_count:\n",
    "        flights_count[airline] = {}\n",
    "    if destination not in flights_count[airline]:\n",
    "        flights_count[airline][destination] = 0\n",
    "    flights_count[airline][destination] += 1\n",
    "\n",
    "# create list of airlines and destinations\n",
    "airlines = list(flights_count.keys())\n",
    "destinations = list(set(dest for dests in flights_count.values() for dest in dests.keys()))\n",
    "\n",
    "# print table header\n",
    "print('Airline'.ljust(15), end='')\n",
    "for dest in destinations:\n",
    "    # switch the dest to the correct airport name\n",
    "    match dest:\n",
    "        case 1:\n",
    "            dest = 'Malaga'\n",
    "        case 2:\n",
    "            dest = 'Alicante'\n",
    "        case 4:\n",
    "            dest = 'Brindisi'\n",
    "        case 6:\n",
    "            dest = 'Corfu'\n",
    "        case 8:\n",
    "            dest = 'Faro'\n",
    "        case 9:\n",
    "            dest = 'Kreta'\n",
    "        case 10:\n",
    "            dest = 'Ibiza'\n",
    "        case 12:\n",
    "            dest = 'Kos'\n",
    "\n",
    "\n",
    "\n",
    "    print(str(dest).rjust(10), end='')\n",
    "print('')\n",
    "\n",
    "# print table body\n",
    "for airline in airlines:\n",
    "    print(airline.ljust(15), end='')\n",
    "    for dest in destinations:\n",
    "        count = flights_count.get(airline, {}).get(dest, 0)\n",
    "        print(str(count).rjust(10), end='')\n",
    "    print('')"
   ]
  },
  {
   "cell_type": "code",
   "execution_count": null,
   "metadata": {},
   "outputs": [],
   "source": [
    "# read the data\n",
    "data = pd.read_csv('../analyse/allData.csv')\n",
    "\n",
    "# open new csv file\n",
    "with open('../analyse/vluchtenPerWeek.csv', 'w', newline='') as csv_file:\n",
    "    writer = csv.writer(csv_file)\n",
    "    writer.writerow(['airline_iata_code', 'arrival_airport_iata_code', 'weekNr', 'countOfFlights'])\n",
    "\n",
    "# open the allData.csv file\n",
    "with open('../analyse/allData.csv', 'r') as file:\n",
    "    reader = csv.DictReader(file)\n",
    "\n",
    "    # initialize dictionary to store flights per airline per destination per week\n",
    "    flights_per_week = {}\n",
    "\n",
    "    # loop through the rows\n",
    "    for row in reader:\n",
    "        airline = row['airline_iata_code']\n",
    "        destination = row['arrival_airport_iata_code']\n",
    "        departure_date = row['departure_date']\n",
    "\n",
    "        # convert departure date to datetime object\n",
    "        departure_date_obj = datetime.datetime.strptime(departure_date, '%Y-%m-%d')\n",
    "\n",
    "        # extract week number\n",
    "        week_number = departure_date_obj.strftime('%W')\n",
    "\n",
    "        # add to flights_per_week dictionary\n",
    "        if airline not in flights_per_week:\n",
    "            flights_per_week[airline] = {}\n",
    "        if destination not in flights_per_week[airline]:\n",
    "            flights_per_week[airline][destination] = {}\n",
    "        if week_number not in flights_per_week[airline][destination]:\n",
    "            flights_per_week[airline][destination][week_number] = 0\n",
    "        flights_per_week[airline][destination][week_number] += 1\n",
    "\n",
    "    with open('../analyse/vluchtenPerWeek.csv', 'a', newline='') as csv_file:\n",
    "        # create csv writer\n",
    "        writer = csv.writer(csv_file)\n",
    "\n",
    "        # print flights per airline per destination per week\n",
    "        for airline, destinations in flights_per_week.items():\n",
    "            for destination, weeks in destinations.items():\n",
    "                for week, num_flights in weeks.items():\n",
    "                    # print(f\"Airline: {airline}, Destination: {destination}, Week: {week}, Flights: {num_flights}\")\n",
    "                    writer.writerow([airline, destination, week, num_flights])"
   ]
  },
  {
   "attachments": {},
   "cell_type": "markdown",
   "metadata": {},
   "source": [
    "### 3) Welke vliegtuigmaatschappij biedt de snelste vlucht aan naar een bepaalde bestemming?"
   ]
  },
  {
   "attachments": {},
   "cell_type": "markdown",
   "metadata": {},
   "source": [
    "Volgens mij in PowerBI"
   ]
  },
  {
   "cell_type": "code",
   "execution_count": null,
   "metadata": {},
   "outputs": [],
   "source": []
  },
  {
   "attachments": {},
   "cell_type": "markdown",
   "metadata": {},
   "source": [
    "### 4) Welke vliegtuigmaatschappij biedt de goedkoopste vlucht aan naar een bepaalde bestemming?"
   ]
  },
  {
   "attachments": {},
   "cell_type": "markdown",
   "metadata": {},
   "source": [
    "Volgens mij in PowerBI"
   ]
  },
  {
   "cell_type": "code",
   "execution_count": null,
   "metadata": {},
   "outputs": [],
   "source": []
  },
  {
   "attachments": {},
   "cell_type": "markdown",
   "metadata": {},
   "source": [
    "### 5) Welke vliegtuigmaatschappij biedt een vlucht aan zonder tussenstops, met maximum 1 tussentop, ... ?"
   ]
  },
  {
   "attachments": {},
   "cell_type": "markdown",
   "metadata": {},
   "source": [
    "Volgens mij in PowerBI"
   ]
  },
  {
   "cell_type": "code",
   "execution_count": null,
   "metadata": {},
   "outputs": [],
   "source": []
  },
  {
   "attachments": {},
   "cell_type": "markdown",
   "metadata": {},
   "source": [
    "### 6) Rapport over prijsevolutie en beschibaarheidsevolutie doorheen de tijd?"
   ]
  },
  {
   "attachments": {},
   "cell_type": "markdown",
   "metadata": {},
   "source": [
    "Geen idee wat ze hiermee bedoelen"
   ]
  },
  {
   "cell_type": "code",
   "execution_count": null,
   "metadata": {},
   "outputs": [],
   "source": []
  },
  {
   "attachments": {},
   "cell_type": "markdown",
   "metadata": {},
   "source": [
    "### 7) Is er een correlatie met de vakantiebestemmingen: zijn bepaalde bestemmingen significant duurder dan andere bestemmingen?"
   ]
  },
  {
   "attachments": {},
   "cell_type": "markdown",
   "metadata": {},
   "source": [
    "Kan in zowel python als PowerBI denk ik?"
   ]
  },
  {
   "cell_type": "code",
   "execution_count": null,
   "metadata": {},
   "outputs": [],
   "source": []
  },
  {
   "attachments": {},
   "cell_type": "markdown",
   "metadata": {},
   "source": [
    "### 8) Zijn de prijzen gerelateerd aan vakantieperiodes hier of ter plaatse?"
   ]
  },
  {
   "attachments": {},
   "cell_type": "markdown",
   "metadata": {},
   "source": [
    "Volgens mij in PowerBI"
   ]
  },
  {
   "cell_type": "code",
   "execution_count": null,
   "metadata": {},
   "outputs": [],
   "source": []
  },
  {
   "attachments": {},
   "cell_type": "markdown",
   "metadata": {},
   "source": [
    "### 9) Kan je de prijsstrategie afleiden? (Invloed van aantal dagen voor vertrek, invloed van beschikbaarheid)"
   ]
  },
  {
   "attachments": {},
   "cell_type": "markdown",
   "metadata": {},
   "source": [
    "Weet ik niet in Python of PowerBI"
   ]
  },
  {
   "cell_type": "code",
   "execution_count": null,
   "metadata": {},
   "outputs": [],
   "source": []
  },
  {
   "attachments": {},
   "cell_type": "markdown",
   "metadata": {},
   "source": [
    "### 10) Is er een link tussen prijs en afstand (en duration)? Bijvoorbeeld Tenerife is anderhalf uur verder dan Alicante."
   ]
  },
  {
   "attachments": {},
   "cell_type": "markdown",
   "metadata": {},
   "source": [
    "Geen idee wat er hier moet gebeuren dus ook geen idee van Python of PowerBI"
   ]
  },
  {
   "cell_type": "code",
   "execution_count": null,
   "metadata": {},
   "outputs": [],
   "source": []
  },
  {
   "attachments": {},
   "cell_type": "markdown",
   "metadata": {},
   "source": [
    "### 11) Is er een link tussen prijs en land? Zijn sommige landen opvallend duurder (en kan dit niet verklaard worden door de extra afstand)"
   ]
  },
  {
   "attachments": {},
   "cell_type": "markdown",
   "metadata": {},
   "source": [
    "Geen idee wat er hier moet gebeuren dus ook geen idee van Python of PowerBI"
   ]
  },
  {
   "cell_type": "code",
   "execution_count": null,
   "metadata": {},
   "outputs": [],
   "source": []
  },
  {
   "attachments": {},
   "cell_type": "markdown",
   "metadata": {},
   "source": [
    "### 12) Hoeveel dagen voor vertrek is een vlucht volgeboekt? Zijn er bestemmingen waarbij de vluchten bijna volgeboekt zijn?"
   ]
  },
  {
   "attachments": {},
   "cell_type": "markdown",
   "metadata": {},
   "source": [
    "Kan in zowel Pyhton als PowerBI volgens mij"
   ]
  },
  {
   "cell_type": "code",
   "execution_count": null,
   "metadata": {},
   "outputs": [],
   "source": []
  },
  {
   "attachments": {},
   "cell_type": "markdown",
   "metadata": {},
   "source": [
    "### 13) Hoeveel procent van de vluchten zijn volgeboekt? / Hoeveel plaatsen zijn er nog vrij 5 dagen voor vertrek."
   ]
  },
  {
   "attachments": {},
   "cell_type": "markdown",
   "metadata": {},
   "source": [
    "In Python volgens mij"
   ]
  },
  {
   "cell_type": "code",
   "execution_count": null,
   "metadata": {},
   "outputs": [],
   "source": []
  },
  {
   "attachments": {},
   "cell_type": "markdown",
   "metadata": {},
   "source": [
    "### 14) Plot het verband tussen de prijs en het aantal dagen voor vertrek voor Ryanair voor de afgelopen maand. Maak gebruik van regressie om de prijzen te voorspellen voor de volgende maand."
   ]
  },
  {
   "attachments": {},
   "cell_type": "markdown",
   "metadata": {},
   "source": [
    "Plotten kan in zowel PowerBI als in Python, regressie is sowieso in Python"
   ]
  },
  {
   "attachments": {},
   "cell_type": "markdown",
   "metadata": {},
   "source": [
    "#### Plot het verband tussen de prijs en het aantal dagen voor vertrek voor Ryanair voor de afgelopen maand."
   ]
  },
  {
   "cell_type": "code",
   "execution_count": null,
   "metadata": {},
   "outputs": [],
   "source": [
    "# read the data\n",
    "data = pd.read_csv('../analyse/allData.csv')\n",
    "\n",
    "# filter the data for Ryanair\n",
    "data = data[data['airline_iata_code'] == 'FR']\n",
    "\n",
    "# convert departure date to datetime object\n",
    "data['departure_date'] = pd.to_datetime(data['departure_date'])\n",
    "\n",
    "# add new column for days before departure\n",
    "data['days_before_departure'] = (data['departure_date'] - data['departure_date'].min()).dt.days\n",
    "\n",
    "# previous month with datetime\n",
    "previous_month = datetime.datetime.now() - datetime.timedelta(days=30)\n",
    "\n",
    "# today with datetime\n",
    "today = datetime.datetime.now()\n",
    "\n",
    "# filter the data for the last month ()\n",
    "data = data[(data['departure_date'] >= previous_month) & (data['departure_date'] <= today)]\n",
    "\n",
    "# plot the results\n",
    "plt.figure(figsize=(25, 20))\n",
    "plt.plot(data['days_before_departure'], data['price'], 'o', color='lightgreen')\n",
    "plt.title('Verband tussen prijs en aantal dagen voor vertrek voor Ryanair')\n",
    "plt.xticks(range(0, 31, 1))\n",
    "plt.xlabel('Aantal dagen voor vertrek')\n",
    "plt.ylabel('Prijs (€)')"
   ]
  },
  {
   "attachments": {},
   "cell_type": "markdown",
   "metadata": {},
   "source": [
    "#### Maak gebruik van regressie om de prijzen te voorspellen voor de volgende maand."
   ]
  },
  {
   "cell_type": "code",
   "execution_count": null,
   "metadata": {},
   "outputs": [],
   "source": [
    "# read data for Ryanair only\n",
    "data = pd.read_csv('../analyse/allData.csv', usecols=['airline_iata_code', 'departure_date', 'price'])\n",
    "data = data[data['airline_iata_code'] == 'FR']\n",
    "\n",
    "# convert departure date to datetime object\n",
    "data['departure_date'] = pd.to_datetime(data['departure_date'])\n",
    "\n",
    "# get date range for last month\n",
    "today = datetime.date.today()\n",
    "tomorrow = today + datetime.timedelta(days=1)\n",
    "last_month = today - pd.DateOffset(months=1)\n",
    "date_range = pd.date_range(start=last_month, end=today, freq='D')\n",
    "\n",
    "# filter data for last month\n",
    "data = data[data['departure_date'].isin(date_range)]\n",
    "\n",
    "# create linear regression model\n",
    "lr = LinearRegression()\n",
    "\n",
    "# fit the model\n",
    "X_train = (data['departure_date'] - last_month).dt.days.values.reshape(-1, 1)\n",
    "y_train = data['price'].values.reshape(-1, 1)\n",
    "lr.fit(X_train, y_train)\n",
    "\n",
    "# predict prices for next month\n",
    "next_month = today + pd.DateOffset(months=1)\n",
    "next_month_range = pd.date_range(start=tomorrow, end=next_month, freq='D')\n",
    "X_test = (next_month_range - last_month).days.values.reshape(-1, 1)\n",
    "y_pred_lr = lr.predict(X_test)\n",
    "\n",
    "# plot results\n",
    "plt.figure(figsize=(25, 20))\n",
    "plt.plot(X_train, y_train, 'o', color='lightgreen')\n",
    "plt.plot(X_test, y_pred_lr, 'o', color='lightblue')\n",
    "plt.axvline(x=30, color='pink', linestyle='--')\n",
    "plt.title('Verband tussen prijs en aantal dagen voor/na vertrek voor Ryanair')\n",
    "plt.xticks(range(0, 62, 1))\n",
    "plt.xlabel('Aantal dagen')\n",
    "plt.ylabel('Prijs (€)')\n",
    "plt.legend(['Data', 'Voorspelling Linear Regression'])\n",
    "plt.show()"
   ]
  },
  {
   "attachments": {},
   "cell_type": "markdown",
   "metadata": {},
   "source": [
    "De x-as van deze grafiek moet je interpreteren als volgt: \n",
    "- Van 0 tot en met 30 zijn de waarden voor de dagen voor vertrek (30 = 0 dagen voor vertrek, dus de dag zelf ; 0 = 30 dagen voor vertrek)\n",
    "- Van 31 tot en met 61 zijn de dagen van de komende maand (31 = morgen, 61 = volgende maand)\n",
    "\n",
    "Samenvattend moet je kijken naar de verticale lijn, dit is het 'midden': alles ervoor zijn het aantal dagen voor vertrek, alles erna zijn de komende dagen (hoe dichter bij de lijn, hoe korter bij het heden; hie verder weg, hoe verder in het verleden of de toekomst)"
   ]
  },
  {
   "attachments": {},
   "cell_type": "markdown",
   "metadata": {},
   "source": [
    "### 15) In PowerBI een kaart maken met de mogelijke bestemmingen als de prijs in een bepaalde range moet liggen (op een bepaald moment)."
   ]
  },
  {
   "attachments": {},
   "cell_type": "markdown",
   "metadata": {},
   "source": [
    "In PowerBI"
   ]
  },
  {
   "attachments": {},
   "cell_type": "markdown",
   "metadata": {},
   "source": [
    "Is volledig opgelost, blad noemt \"15\""
   ]
  }
 ],
 "metadata": {
  "kernelspec": {
   "display_name": "Python 3",
   "language": "python",
   "name": "python3"
  },
  "language_info": {
   "codemirror_mode": {
    "name": "ipython",
    "version": 3
   },
   "file_extension": ".py",
   "mimetype": "text/x-python",
   "name": "python",
   "nbconvert_exporter": "python",
   "pygments_lexer": "ipython3",
   "version": "3.11.0"
  },
  "orig_nbformat": 4
 },
 "nbformat": 4,
 "nbformat_minor": 2
}
