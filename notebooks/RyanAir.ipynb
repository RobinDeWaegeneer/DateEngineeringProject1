{
 "cells": [
  {
   "cell_type": "code",
   "execution_count": 1,
   "metadata": {},
   "outputs": [],
   "source": [
    "import pandas as pd\n",
    "import matplotlib.pyplot as plt"
   ]
  },
  {
   "cell_type": "code",
   "execution_count": 2,
   "metadata": {},
   "outputs": [],
   "source": [
    "df = pd.read_csv('../csv/Ryanair.csv')"
   ]
  },
  {
   "cell_type": "code",
   "execution_count": 3,
   "metadata": {},
   "outputs": [
    {
     "name": "stdout",
     "output_type": "stream",
     "text": [
      "<class 'pandas.core.frame.DataFrame'>\n",
      "RangeIndex: 1789 entries, 0 to 1788\n",
      "Data columns (total 11 columns):\n",
      " #   Column            Non-Null Count  Dtype  \n",
      "---  ------            --------------  -----  \n",
      " 0   Luchthaven        1789 non-null   object \n",
      " 1   Bestemming        1789 non-null   object \n",
      " 2   Datum             1789 non-null   object \n",
      " 3   Vertrektijdstip   1789 non-null   object \n",
      " 4   Aankomsttijdstip  1789 non-null   object \n",
      " 5   prijs             1789 non-null   float64\n",
      " 6   duur              1789 non-null   object \n",
      " 7   aantalStops       1789 non-null   int64  \n",
      " 8   vrijePlaatsen     1789 non-null   int64  \n",
      " 9   VluchtNr          1789 non-null   object \n",
      " 10  Flightkey         1789 non-null   object \n",
      "dtypes: float64(1), int64(2), object(8)\n",
      "memory usage: 153.9+ KB\n"
     ]
    }
   ],
   "source": [
    "df.info()"
   ]
  },
  {
   "cell_type": "code",
   "execution_count": 4,
   "metadata": {},
   "outputs": [
    {
     "data": {
      "text/html": [
       "<div>\n",
       "<style scoped>\n",
       "    .dataframe tbody tr th:only-of-type {\n",
       "        vertical-align: middle;\n",
       "    }\n",
       "\n",
       "    .dataframe tbody tr th {\n",
       "        vertical-align: top;\n",
       "    }\n",
       "\n",
       "    .dataframe thead th {\n",
       "        text-align: right;\n",
       "    }\n",
       "</style>\n",
       "<table border=\"1\" class=\"dataframe\">\n",
       "  <thead>\n",
       "    <tr style=\"text-align: right;\">\n",
       "      <th></th>\n",
       "      <th>prijs</th>\n",
       "      <th>aantalStops</th>\n",
       "      <th>vrijePlaatsen</th>\n",
       "    </tr>\n",
       "  </thead>\n",
       "  <tbody>\n",
       "    <tr>\n",
       "      <th>count</th>\n",
       "      <td>1789.000000</td>\n",
       "      <td>1789.0</td>\n",
       "      <td>1789.000000</td>\n",
       "    </tr>\n",
       "    <tr>\n",
       "      <th>mean</th>\n",
       "      <td>102.479832</td>\n",
       "      <td>0.0</td>\n",
       "      <td>0.781442</td>\n",
       "    </tr>\n",
       "    <tr>\n",
       "      <th>std</th>\n",
       "      <td>53.262938</td>\n",
       "      <td>0.0</td>\n",
       "      <td>2.209845</td>\n",
       "    </tr>\n",
       "    <tr>\n",
       "      <th>min</th>\n",
       "      <td>14.990000</td>\n",
       "      <td>0.0</td>\n",
       "      <td>-1.000000</td>\n",
       "    </tr>\n",
       "    <tr>\n",
       "      <th>25%</th>\n",
       "      <td>65.190000</td>\n",
       "      <td>0.0</td>\n",
       "      <td>-1.000000</td>\n",
       "    </tr>\n",
       "    <tr>\n",
       "      <th>50%</th>\n",
       "      <td>89.920000</td>\n",
       "      <td>0.0</td>\n",
       "      <td>-1.000000</td>\n",
       "    </tr>\n",
       "    <tr>\n",
       "      <th>75%</th>\n",
       "      <td>132.540000</td>\n",
       "      <td>0.0</td>\n",
       "      <td>3.000000</td>\n",
       "    </tr>\n",
       "    <tr>\n",
       "      <th>max</th>\n",
       "      <td>514.990000</td>\n",
       "      <td>0.0</td>\n",
       "      <td>5.000000</td>\n",
       "    </tr>\n",
       "  </tbody>\n",
       "</table>\n",
       "</div>"
      ],
      "text/plain": [
       "             prijs  aantalStops  vrijePlaatsen\n",
       "count  1789.000000       1789.0    1789.000000\n",
       "mean    102.479832          0.0       0.781442\n",
       "std      53.262938          0.0       2.209845\n",
       "min      14.990000          0.0      -1.000000\n",
       "25%      65.190000          0.0      -1.000000\n",
       "50%      89.920000          0.0      -1.000000\n",
       "75%     132.540000          0.0       3.000000\n",
       "max     514.990000          0.0       5.000000"
      ]
     },
     "execution_count": 4,
     "metadata": {},
     "output_type": "execute_result"
    }
   ],
   "source": [
    "df.describe()"
   ]
  },
  {
   "cell_type": "code",
   "execution_count": 5,
   "metadata": {},
   "outputs": [
    {
     "data": {
      "text/html": [
       "<div>\n",
       "<style scoped>\n",
       "    .dataframe tbody tr th:only-of-type {\n",
       "        vertical-align: middle;\n",
       "    }\n",
       "\n",
       "    .dataframe tbody tr th {\n",
       "        vertical-align: top;\n",
       "    }\n",
       "\n",
       "    .dataframe thead th {\n",
       "        text-align: right;\n",
       "    }\n",
       "</style>\n",
       "<table border=\"1\" class=\"dataframe\">\n",
       "  <thead>\n",
       "    <tr style=\"text-align: right;\">\n",
       "      <th></th>\n",
       "      <th>Luchthaven</th>\n",
       "      <th>Bestemming</th>\n",
       "      <th>Datum</th>\n",
       "      <th>vrijePlaatsen</th>\n",
       "    </tr>\n",
       "  </thead>\n",
       "  <tbody>\n",
       "    <tr>\n",
       "      <th>0</th>\n",
       "      <td>Brussels (Charleroi)</td>\n",
       "      <td>Heraklion Crete</td>\n",
       "      <td>2023-04-01</td>\n",
       "      <td>1</td>\n",
       "    </tr>\n",
       "    <tr>\n",
       "      <th>1</th>\n",
       "      <td>Brussels (Charleroi)</td>\n",
       "      <td>Naples</td>\n",
       "      <td>2023-04-01</td>\n",
       "      <td>2</td>\n",
       "    </tr>\n",
       "    <tr>\n",
       "      <th>2</th>\n",
       "      <td>Brussels (Charleroi)</td>\n",
       "      <td>Palermo</td>\n",
       "      <td>2023-04-01</td>\n",
       "      <td>-1</td>\n",
       "    </tr>\n",
       "    <tr>\n",
       "      <th>3</th>\n",
       "      <td>Brussels (Charleroi)</td>\n",
       "      <td>Faro</td>\n",
       "      <td>2023-04-01</td>\n",
       "      <td>-1</td>\n",
       "    </tr>\n",
       "    <tr>\n",
       "      <th>4</th>\n",
       "      <td>Brussels (Charleroi)</td>\n",
       "      <td>Alicante</td>\n",
       "      <td>2023-04-01</td>\n",
       "      <td>2</td>\n",
       "    </tr>\n",
       "    <tr>\n",
       "      <th>...</th>\n",
       "      <td>...</td>\n",
       "      <td>...</td>\n",
       "      <td>...</td>\n",
       "      <td>...</td>\n",
       "    </tr>\n",
       "    <tr>\n",
       "      <th>1784</th>\n",
       "      <td>Brussels (Charleroi)</td>\n",
       "      <td>Naples</td>\n",
       "      <td>2023-09-30</td>\n",
       "      <td>5</td>\n",
       "    </tr>\n",
       "    <tr>\n",
       "      <th>1785</th>\n",
       "      <td>Brussels (Charleroi)</td>\n",
       "      <td>Palermo</td>\n",
       "      <td>2023-09-30</td>\n",
       "      <td>-1</td>\n",
       "    </tr>\n",
       "    <tr>\n",
       "      <th>1786</th>\n",
       "      <td>Brussels (Charleroi)</td>\n",
       "      <td>Faro</td>\n",
       "      <td>2023-09-30</td>\n",
       "      <td>3</td>\n",
       "    </tr>\n",
       "    <tr>\n",
       "      <th>1787</th>\n",
       "      <td>Brussels (Charleroi)</td>\n",
       "      <td>Alicante</td>\n",
       "      <td>2023-09-30</td>\n",
       "      <td>4</td>\n",
       "    </tr>\n",
       "    <tr>\n",
       "      <th>1788</th>\n",
       "      <td>Brussels (Charleroi)</td>\n",
       "      <td>Malaga</td>\n",
       "      <td>2023-09-30</td>\n",
       "      <td>1</td>\n",
       "    </tr>\n",
       "  </tbody>\n",
       "</table>\n",
       "<p>1789 rows × 4 columns</p>\n",
       "</div>"
      ],
      "text/plain": [
       "                Luchthaven       Bestemming       Datum  vrijePlaatsen\n",
       "0     Brussels (Charleroi)  Heraklion Crete  2023-04-01              1\n",
       "1     Brussels (Charleroi)           Naples  2023-04-01              2\n",
       "2     Brussels (Charleroi)          Palermo  2023-04-01             -1\n",
       "3     Brussels (Charleroi)             Faro  2023-04-01             -1\n",
       "4     Brussels (Charleroi)         Alicante  2023-04-01              2\n",
       "...                    ...              ...         ...            ...\n",
       "1784  Brussels (Charleroi)           Naples  2023-09-30              5\n",
       "1785  Brussels (Charleroi)          Palermo  2023-09-30             -1\n",
       "1786  Brussels (Charleroi)             Faro  2023-09-30              3\n",
       "1787  Brussels (Charleroi)         Alicante  2023-09-30              4\n",
       "1788  Brussels (Charleroi)           Malaga  2023-09-30              1\n",
       "\n",
       "[1789 rows x 4 columns]"
      ]
     },
     "execution_count": 5,
     "metadata": {},
     "output_type": "execute_result"
    }
   ],
   "source": [
    "df.filter(items=['Luchthaven', 'Bestemming','Datum', 'vrijePlaatsen'])"
   ]
  },
  {
   "cell_type": "code",
   "execution_count": 6,
   "metadata": {},
   "outputs": [
    {
     "data": {
      "text/plain": [
       "-1    993\n",
       " 5    174\n",
       " 3    170\n",
       " 1    167\n",
       " 2    148\n",
       " 4    137\n",
       "Name: vrijePlaatsen, dtype: int64"
      ]
     },
     "execution_count": 6,
     "metadata": {},
     "output_type": "execute_result"
    }
   ],
   "source": [
    "df['vrijePlaatsen'].value_counts()"
   ]
  }
 ],
 "metadata": {
  "kernelspec": {
   "display_name": "Python 3",
   "language": "python",
   "name": "python3"
  },
  "language_info": {
   "codemirror_mode": {
    "name": "ipython",
    "version": 3
   },
   "file_extension": ".py",
   "mimetype": "text/x-python",
   "name": "python",
   "nbconvert_exporter": "python",
   "pygments_lexer": "ipython3",
   "version": "3.11.0"
  },
  "orig_nbformat": 4
 },
 "nbformat": 4,
 "nbformat_minor": 2
}
