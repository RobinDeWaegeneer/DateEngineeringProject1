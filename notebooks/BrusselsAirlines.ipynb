{
 "cells": [
  {
   "attachments": {},
   "cell_type": "markdown",
   "metadata": {},
   "source": [
    "add imports"
   ]
  },
  {
   "cell_type": "code",
   "execution_count": 24,
   "metadata": {},
   "outputs": [],
   "source": [
    "import pandas as pd\n",
    "import matplotlib.pyplot as plt"
   ]
  },
  {
   "cell_type": "code",
   "execution_count": 11,
   "metadata": {},
   "outputs": [],
   "source": [
    "df = pd.read_csv(\"../csv/BrusselsAirlines.csv\")"
   ]
  },
  {
   "cell_type": "code",
   "execution_count": 12,
   "metadata": {},
   "outputs": [
    {
     "data": {
      "text/html": [
       "<div>\n",
       "<style scoped>\n",
       "    .dataframe tbody tr th:only-of-type {\n",
       "        vertical-align: middle;\n",
       "    }\n",
       "\n",
       "    .dataframe tbody tr th {\n",
       "        vertical-align: top;\n",
       "    }\n",
       "\n",
       "    .dataframe thead th {\n",
       "        text-align: right;\n",
       "    }\n",
       "</style>\n",
       "<table border=\"1\" class=\"dataframe\">\n",
       "  <thead>\n",
       "    <tr style=\"text-align: right;\">\n",
       "      <th></th>\n",
       "      <th>Departure</th>\n",
       "      <th>Destination</th>\n",
       "      <th>Date</th>\n",
       "      <th>Departure time</th>\n",
       "      <th>Arrival time</th>\n",
       "      <th>Stops</th>\n",
       "      <th>Flightnumber</th>\n",
       "      <th>Airports</th>\n",
       "      <th>Duration</th>\n",
       "      <th>Price</th>\n",
       "      <th>Seats</th>\n",
       "    </tr>\n",
       "  </thead>\n",
       "  <tbody>\n",
       "    <tr>\n",
       "      <th>count</th>\n",
       "      <td>93</td>\n",
       "      <td>93</td>\n",
       "      <td>93</td>\n",
       "      <td>93</td>\n",
       "      <td>93</td>\n",
       "      <td>93</td>\n",
       "      <td>93</td>\n",
       "      <td>93</td>\n",
       "      <td>93</td>\n",
       "      <td>93</td>\n",
       "      <td>93</td>\n",
       "    </tr>\n",
       "    <tr>\n",
       "      <th>unique</th>\n",
       "      <td>1</td>\n",
       "      <td>1</td>\n",
       "      <td>30</td>\n",
       "      <td>11</td>\n",
       "      <td>16</td>\n",
       "      <td>4</td>\n",
       "      <td>22</td>\n",
       "      <td>13</td>\n",
       "      <td>19</td>\n",
       "      <td>55</td>\n",
       "      <td>10</td>\n",
       "    </tr>\n",
       "    <tr>\n",
       "      <th>top</th>\n",
       "      <td>brussel</td>\n",
       "      <td>heraklion</td>\n",
       "      <td>01/04/2023</td>\n",
       "      <td>06:55</td>\n",
       "      <td>08:50</td>\n",
       "      <td>1</td>\n",
       "      <td>['SN3255']</td>\n",
       "      <td>['Brussels Airlines', 'Ew Discover']</td>\n",
       "      <td>755</td>\n",
       "      <td>None</td>\n",
       "      <td>No information available</td>\n",
       "    </tr>\n",
       "    <tr>\n",
       "      <th>freq</th>\n",
       "      <td>93</td>\n",
       "      <td>93</td>\n",
       "      <td>6</td>\n",
       "      <td>20</td>\n",
       "      <td>15</td>\n",
       "      <td>49</td>\n",
       "      <td>11</td>\n",
       "      <td>18</td>\n",
       "      <td>18</td>\n",
       "      <td>7</td>\n",
       "      <td>44</td>\n",
       "    </tr>\n",
       "  </tbody>\n",
       "</table>\n",
       "</div>"
      ],
      "text/plain": [
       "       Departure Destination        Date Departure time Arrival time Stops  \\\n",
       "count         93          93          93             93           93    93   \n",
       "unique         1           1          30             11           16     4   \n",
       "top      brussel   heraklion  01/04/2023          06:55        08:50     1   \n",
       "freq          93          93           6             20           15    49   \n",
       "\n",
       "       Flightnumber                              Airports Duration Price  \\\n",
       "count            93                                    93       93    93   \n",
       "unique           22                                    13       19    55   \n",
       "top      ['SN3255']  ['Brussels Airlines', 'Ew Discover']      755  None   \n",
       "freq             11                                    18       18     7   \n",
       "\n",
       "                           Seats  \n",
       "count                         93  \n",
       "unique                        10  \n",
       "top     No information available  \n",
       "freq                          44  "
      ]
     },
     "execution_count": 12,
     "metadata": {},
     "output_type": "execute_result"
    }
   ],
   "source": [
    "df.describe()"
   ]
  },
  {
   "cell_type": "code",
   "execution_count": 13,
   "metadata": {},
   "outputs": [
    {
     "name": "stdout",
     "output_type": "stream",
     "text": [
      "<class 'pandas.core.frame.DataFrame'>\n",
      "RangeIndex: 93 entries, 0 to 92\n",
      "Data columns (total 11 columns):\n",
      " #   Column          Non-Null Count  Dtype \n",
      "---  ------          --------------  ----- \n",
      " 0   Departure       93 non-null     object\n",
      " 1   Destination     93 non-null     object\n",
      " 2   Date            93 non-null     object\n",
      " 3   Departure time  93 non-null     object\n",
      " 4   Arrival time    93 non-null     object\n",
      " 5   Stops           93 non-null     object\n",
      " 6   Flightnumber    93 non-null     object\n",
      " 7   Airports        93 non-null     object\n",
      " 8   Duration        93 non-null     object\n",
      " 9   Price           93 non-null     object\n",
      " 10  Seats           93 non-null     object\n",
      "dtypes: object(11)\n",
      "memory usage: 8.1+ KB\n"
     ]
    }
   ],
   "source": [
    "df.info()"
   ]
  },
  {
   "cell_type": "code",
   "execution_count": 29,
   "metadata": {},
   "outputs": [
    {
     "data": {
      "text/html": [
       "<div>\n",
       "<style scoped>\n",
       "    .dataframe tbody tr th:only-of-type {\n",
       "        vertical-align: middle;\n",
       "    }\n",
       "\n",
       "    .dataframe tbody tr th {\n",
       "        vertical-align: top;\n",
       "    }\n",
       "\n",
       "    .dataframe thead th {\n",
       "        text-align: right;\n",
       "    }\n",
       "</style>\n",
       "<table border=\"1\" class=\"dataframe\">\n",
       "  <thead>\n",
       "    <tr style=\"text-align: right;\">\n",
       "      <th></th>\n",
       "      <th>Departure</th>\n",
       "      <th>Destination</th>\n",
       "      <th>Date</th>\n",
       "      <th>Departure time</th>\n",
       "      <th>Arrival time</th>\n",
       "      <th>Stops</th>\n",
       "      <th>Flightnumber</th>\n",
       "      <th>Airports</th>\n",
       "      <th>Duration</th>\n",
       "      <th>Price</th>\n",
       "      <th>Seats</th>\n",
       "    </tr>\n",
       "  </thead>\n",
       "  <tbody>\n",
       "    <tr>\n",
       "      <th>0</th>\n",
       "      <td>brussel</td>\n",
       "      <td>heraklion</td>\n",
       "      <td>01/04/2023</td>\n",
       "      <td>05:55</td>\n",
       "      <td>10:20</td>\n",
       "      <td>0</td>\n",
       "      <td>['SN3255']</td>\n",
       "      <td>['Brussels Airlines']</td>\n",
       "      <td>205</td>\n",
       "      <td>392.14</td>\n",
       "      <td>No information available</td>\n",
       "    </tr>\n",
       "    <tr>\n",
       "      <th>1</th>\n",
       "      <td>brussel</td>\n",
       "      <td>heraklion</td>\n",
       "      <td>01/04/2023</td>\n",
       "      <td>06:20</td>\n",
       "      <td>14:15</td>\n",
       "      <td>1</td>\n",
       "      <td>['LX4551', 'LX2350']</td>\n",
       "      <td>['Brussels Airlines', 'Swiss International Air...</td>\n",
       "      <td>415</td>\n",
       "      <td>722.49</td>\n",
       "      <td>No information available</td>\n",
       "    </tr>\n",
       "    <tr>\n",
       "      <th>2</th>\n",
       "      <td>brussel</td>\n",
       "      <td>heraklion</td>\n",
       "      <td>01/04/2023</td>\n",
       "      <td>19:15</td>\n",
       "      <td>08:50</td>\n",
       "      <td>1</td>\n",
       "      <td>['LH5589', 'LH4420']</td>\n",
       "      <td>['Brussels Airlines', 'Ew Discover']</td>\n",
       "      <td>755</td>\n",
       "      <td>596.88</td>\n",
       "      <td>7 stoel(en) over aan deze prijs</td>\n",
       "    </tr>\n",
       "    <tr>\n",
       "      <th>3</th>\n",
       "      <td>brussel</td>\n",
       "      <td>heraklion</td>\n",
       "      <td>01/04/2023</td>\n",
       "      <td>19:15</td>\n",
       "      <td>08:50</td>\n",
       "      <td>1</td>\n",
       "      <td>['LH5589', '4Y1204']</td>\n",
       "      <td>['Brussels Airlines', 'Ew Discover']</td>\n",
       "      <td>755</td>\n",
       "      <td>596.88</td>\n",
       "      <td>7 stoel(en) over aan deze prijs</td>\n",
       "    </tr>\n",
       "    <tr>\n",
       "      <th>4</th>\n",
       "      <td>brussel</td>\n",
       "      <td>heraklion</td>\n",
       "      <td>01/04/2023</td>\n",
       "      <td>06:55</td>\n",
       "      <td>16:05</td>\n",
       "      <td>2</td>\n",
       "      <td>['LH5629', 'LH101', 'LH1296']</td>\n",
       "      <td>['Brussels Airlines', 'Lufthansa', 'Lufthansa']</td>\n",
       "      <td>490</td>\n",
       "      <td>782.11</td>\n",
       "      <td>No information available</td>\n",
       "    </tr>\n",
       "    <tr>\n",
       "      <th>...</th>\n",
       "      <td>...</td>\n",
       "      <td>...</td>\n",
       "      <td>...</td>\n",
       "      <td>...</td>\n",
       "      <td>...</td>\n",
       "      <td>...</td>\n",
       "      <td>...</td>\n",
       "      <td>...</td>\n",
       "      <td>...</td>\n",
       "      <td>...</td>\n",
       "      <td>...</td>\n",
       "    </tr>\n",
       "    <tr>\n",
       "      <th>88</th>\n",
       "      <td>brussel</td>\n",
       "      <td>heraklion</td>\n",
       "      <td>28/04/2023</td>\n",
       "      <td>19:15</td>\n",
       "      <td>08:50</td>\n",
       "      <td>1</td>\n",
       "      <td>['LH5589', 'LH4420']</td>\n",
       "      <td>['Brussels Airlines', 'Ew Discover']</td>\n",
       "      <td>755</td>\n",
       "      <td>356.88</td>\n",
       "      <td>No information available</td>\n",
       "    </tr>\n",
       "    <tr>\n",
       "      <th>89</th>\n",
       "      <td>brussel</td>\n",
       "      <td>heraklion</td>\n",
       "      <td>28/04/2023</td>\n",
       "      <td>19:15</td>\n",
       "      <td>08:50</td>\n",
       "      <td>1</td>\n",
       "      <td>['LH5589', '4Y1204']</td>\n",
       "      <td>['Brussels Airlines', 'Ew Discover']</td>\n",
       "      <td>755</td>\n",
       "      <td>356.88</td>\n",
       "      <td>No information available</td>\n",
       "    </tr>\n",
       "    <tr>\n",
       "      <th>90</th>\n",
       "      <td>brussel</td>\n",
       "      <td>heraklion</td>\n",
       "      <td>28/04/2023</td>\n",
       "      <td>19:00</td>\n",
       "      <td>08:50</td>\n",
       "      <td>2</td>\n",
       "      <td>['LH5631', 'LH123', 'LH4420']</td>\n",
       "      <td>['Brussels Airlines', 'Lufthansa', 'Ew Discover']</td>\n",
       "      <td>770</td>\n",
       "      <td>342.32</td>\n",
       "      <td>No information available</td>\n",
       "    </tr>\n",
       "    <tr>\n",
       "      <th>91</th>\n",
       "      <td>brussel</td>\n",
       "      <td>heraklion</td>\n",
       "      <td>29/04/2023</td>\n",
       "      <td>None</td>\n",
       "      <td>None</td>\n",
       "      <td>None</td>\n",
       "      <td>None</td>\n",
       "      <td>None</td>\n",
       "      <td>None</td>\n",
       "      <td>None</td>\n",
       "      <td>None</td>\n",
       "    </tr>\n",
       "    <tr>\n",
       "      <th>92</th>\n",
       "      <td>brussel</td>\n",
       "      <td>heraklion</td>\n",
       "      <td>30/04/2023</td>\n",
       "      <td>None</td>\n",
       "      <td>None</td>\n",
       "      <td>None</td>\n",
       "      <td>None</td>\n",
       "      <td>None</td>\n",
       "      <td>None</td>\n",
       "      <td>None</td>\n",
       "      <td>None</td>\n",
       "    </tr>\n",
       "  </tbody>\n",
       "</table>\n",
       "<p>93 rows × 11 columns</p>\n",
       "</div>"
      ],
      "text/plain": [
       "   Departure Destination        Date Departure time Arrival time Stops  \\\n",
       "0    brussel   heraklion  01/04/2023          05:55        10:20     0   \n",
       "1    brussel   heraklion  01/04/2023          06:20        14:15     1   \n",
       "2    brussel   heraklion  01/04/2023          19:15        08:50     1   \n",
       "3    brussel   heraklion  01/04/2023          19:15        08:50     1   \n",
       "4    brussel   heraklion  01/04/2023          06:55        16:05     2   \n",
       "..       ...         ...         ...            ...          ...   ...   \n",
       "88   brussel   heraklion  28/04/2023          19:15        08:50     1   \n",
       "89   brussel   heraklion  28/04/2023          19:15        08:50     1   \n",
       "90   brussel   heraklion  28/04/2023          19:00        08:50     2   \n",
       "91   brussel   heraklion  29/04/2023           None         None  None   \n",
       "92   brussel   heraklion  30/04/2023           None         None  None   \n",
       "\n",
       "                     Flightnumber  \\\n",
       "0                      ['SN3255']   \n",
       "1            ['LX4551', 'LX2350']   \n",
       "2            ['LH5589', 'LH4420']   \n",
       "3            ['LH5589', '4Y1204']   \n",
       "4   ['LH5629', 'LH101', 'LH1296']   \n",
       "..                            ...   \n",
       "88           ['LH5589', 'LH4420']   \n",
       "89           ['LH5589', '4Y1204']   \n",
       "90  ['LH5631', 'LH123', 'LH4420']   \n",
       "91                           None   \n",
       "92                           None   \n",
       "\n",
       "                                             Airports Duration   Price  \\\n",
       "0                               ['Brussels Airlines']      205  392.14   \n",
       "1   ['Brussels Airlines', 'Swiss International Air...      415  722.49   \n",
       "2                ['Brussels Airlines', 'Ew Discover']      755  596.88   \n",
       "3                ['Brussels Airlines', 'Ew Discover']      755  596.88   \n",
       "4     ['Brussels Airlines', 'Lufthansa', 'Lufthansa']      490  782.11   \n",
       "..                                                ...      ...     ...   \n",
       "88               ['Brussels Airlines', 'Ew Discover']      755  356.88   \n",
       "89               ['Brussels Airlines', 'Ew Discover']      755  356.88   \n",
       "90  ['Brussels Airlines', 'Lufthansa', 'Ew Discover']      770  342.32   \n",
       "91                                               None     None    None   \n",
       "92                                               None     None    None   \n",
       "\n",
       "                              Seats  \n",
       "0          No information available  \n",
       "1          No information available  \n",
       "2   7 stoel(en) over aan deze prijs  \n",
       "3   7 stoel(en) over aan deze prijs  \n",
       "4          No information available  \n",
       "..                              ...  \n",
       "88         No information available  \n",
       "89         No information available  \n",
       "90         No information available  \n",
       "91                             None  \n",
       "92                             None  \n",
       "\n",
       "[93 rows x 11 columns]"
      ]
     },
     "execution_count": 29,
     "metadata": {},
     "output_type": "execute_result"
    }
   ],
   "source": [
    "df.filter(items=[\"Departure\", \"Destination\", \"Date\", \"Departure time\", \"Arrival time\", \"Stops\", \"Flightnumber\", \"Airports\", \"Duration\", \"Price\", \"Seats\"])"
   ]
  },
  {
   "cell_type": "code",
   "execution_count": 30,
   "metadata": {},
   "outputs": [
    {
     "data": {
      "text/plain": [
       "brussel    93\n",
       "Name: Departure, dtype: int64"
      ]
     },
     "execution_count": 30,
     "metadata": {},
     "output_type": "execute_result"
    }
   ],
   "source": [
    "df[\"Departure\"].value_counts()"
   ]
  },
  {
   "cell_type": "code",
   "execution_count": 31,
   "metadata": {},
   "outputs": [
    {
     "data": {
      "text/plain": [
       "heraklion    93\n",
       "Name: Destination, dtype: int64"
      ]
     },
     "execution_count": 31,
     "metadata": {},
     "output_type": "execute_result"
    }
   ],
   "source": [
    "df[\"Destination\"].value_counts()"
   ]
  },
  {
   "cell_type": "code",
   "execution_count": 32,
   "metadata": {},
   "outputs": [
    {
     "data": {
      "text/plain": [
       "01/04/2023    6\n",
       "08/04/2023    6\n",
       "22/04/2023    6\n",
       "02/04/2023    6\n",
       "15/04/2023    6\n",
       "23/04/2023    6\n",
       "09/04/2023    5\n",
       "28/04/2023    5\n",
       "07/04/2023    4\n",
       "14/04/2023    4\n",
       "25/04/2023    3\n",
       "20/04/2023    3\n",
       "24/04/2023    3\n",
       "13/04/2023    3\n",
       "27/04/2023    3\n",
       "17/04/2023    3\n",
       "18/04/2023    3\n",
       "19/04/2023    2\n",
       "05/04/2023    2\n",
       "11/04/2023    2\n",
       "26/04/2023    2\n",
       "12/04/2023    2\n",
       "29/04/2023    1\n",
       "16/04/2023    1\n",
       "21/04/2023    1\n",
       "10/04/2023    1\n",
       "06/04/2023    1\n",
       "04/04/2023    1\n",
       "03/04/2023    1\n",
       "30/04/2023    1\n",
       "Name: Date, dtype: int64"
      ]
     },
     "execution_count": 32,
     "metadata": {},
     "output_type": "execute_result"
    }
   ],
   "source": [
    "df[\"Date\"].value_counts()"
   ]
  },
  {
   "cell_type": "code",
   "execution_count": 33,
   "metadata": {},
   "outputs": [
    {
     "data": {
      "text/plain": [
       "06:55    20\n",
       "19:15    15\n",
       "09:35    10\n",
       "07:00     9\n",
       "05:55     8\n",
       "06:20     7\n",
       "None      7\n",
       "19:20     6\n",
       "19:00     4\n",
       "15:00     4\n",
       "07:55     3\n",
       "Name: Departure time, dtype: int64"
      ]
     },
     "execution_count": 33,
     "metadata": {},
     "output_type": "execute_result"
    }
   ],
   "source": [
    "df[\"Departure time\"].value_counts()"
   ]
  },
  {
   "cell_type": "code",
   "execution_count": 34,
   "metadata": {},
   "outputs": [
    {
     "data": {
      "text/plain": [
       "08:50    15\n",
       "16:05    14\n",
       "19:55    13\n",
       "10:20     8\n",
       "None      7\n",
       "15:45     6\n",
       "17:55     5\n",
       "10:15     4\n",
       "14:15     3\n",
       "12:20     3\n",
       "18:20     3\n",
       "01:00     3\n",
       "20:10     3\n",
       "12:35     3\n",
       "17:45     2\n",
       "09:50     1\n",
       "Name: Arrival time, dtype: int64"
      ]
     },
     "execution_count": 34,
     "metadata": {},
     "output_type": "execute_result"
    }
   ],
   "source": [
    "df[\"Arrival time\"].value_counts()"
   ]
  },
  {
   "cell_type": "code",
   "execution_count": 35,
   "metadata": {},
   "outputs": [
    {
     "data": {
      "text/plain": [
       "1       49\n",
       "2       26\n",
       "0       11\n",
       "None     7\n",
       "Name: Stops, dtype: int64"
      ]
     },
     "execution_count": 35,
     "metadata": {},
     "output_type": "execute_result"
    }
   ],
   "source": [
    "df[\"Stops\"].value_counts()"
   ]
  },
  {
   "cell_type": "code",
   "execution_count": 36,
   "metadata": {},
   "outputs": [
    {
     "data": {
      "text/plain": [
       "['SN3255']                        11\n",
       "None                               7\n",
       "['LH5589', 'LH4420']               7\n",
       "['LH5589', '4Y1204']               7\n",
       "['LH5625', 'LH1758']               7\n",
       "['LX4545', 'LX8348']               6\n",
       "['LH5629', 'LH1758']               6\n",
       "['LH5587', 'LH1296']               6\n",
       "['LH5629', 'LH099', 'LH1296']      5\n",
       "['LX4557', 'LX2819', 'LX8348']     4\n",
       "['LH5631', 'LH5922']               3\n",
       "['LX4551', 'LX2350']               3\n",
       "['LH5629', 'LH101', 'LH1296']      3\n",
       "['LH5625', 'LH5922']               3\n",
       "['LH5587', 'LH100', 'LH5922']      3\n",
       "['LX4563', 'LX7477', 'LX8348']     2\n",
       "['LX4563', 'LX7475', 'LX8348']     2\n",
       "['LX4563', 'LX2805', 'LX8348']     2\n",
       "['LX4551', 'LX2809', 'LX8348']     2\n",
       "['LX4551', 'LX2807', 'LX8348']     2\n",
       "['OS8176', 'OS9003']               1\n",
       "['LH5631', 'LH123', 'LH4420']      1\n",
       "Name: Flightnumber, dtype: int64"
      ]
     },
     "execution_count": 36,
     "metadata": {},
     "output_type": "execute_result"
    }
   ],
   "source": [
    "df[\"Flightnumber\"].value_counts()"
   ]
  },
  {
   "cell_type": "code",
   "execution_count": 37,
   "metadata": {},
   "outputs": [
    {
     "data": {
      "text/plain": [
       "['Brussels Airlines', 'Ew Discover']                                       18\n",
       "['Brussels Airlines', 'Lufthansa']                                         15\n",
       "['Brussels Airlines']                                                      11\n",
       "['Brussels Airlines', 'Swiss International Air Lines', 'Edelweiss Air']    10\n",
       "['Brussels Airlines', 'Lufthansa', 'Lufthansa']                             8\n",
       "None                                                                        7\n",
       "['Brussels Airlines', 'Aegean Airlines']                                    6\n",
       "['Brussels Airlines', 'Edelweiss Air']                                      6\n",
       "['Brussels Airlines', 'SWISS RAILWAYS', 'Edelweiss Air']                    4\n",
       "['Brussels Airlines', 'Swiss International Air Lines']                      3\n",
       "['Brussels Airlines', 'Lufthansa', 'Aegean Airlines']                       3\n",
       "['Brussels Airlines', 'Austrian Airlines']                                  1\n",
       "['Brussels Airlines', 'Lufthansa', 'Ew Discover']                           1\n",
       "Name: Airports, dtype: int64"
      ]
     },
     "execution_count": 37,
     "metadata": {},
     "output_type": "execute_result"
    }
   ],
   "source": [
    "df[\"Airports\"].value_counts()"
   ]
  },
  {
   "cell_type": "code",
   "execution_count": 38,
   "metadata": {},
   "outputs": [
    {
     "data": {
      "text/plain": [
       "755     18\n",
       "205     11\n",
       "490      8\n",
       "None     7\n",
       "1415     6\n",
       "485      6\n",
       "440      5\n",
       "1095     4\n",
       "415      3\n",
       "735      3\n",
       "300      3\n",
       "280      3\n",
       "720      3\n",
       "310      3\n",
       "465      3\n",
       "625      3\n",
       "430      2\n",
       "815      1\n",
       "770      1\n",
       "Name: Duration, dtype: int64"
      ]
     },
     "execution_count": 38,
     "metadata": {},
     "output_type": "execute_result"
    }
   ],
   "source": [
    "df[\"Duration\"].value_counts()"
   ]
  },
  {
   "cell_type": "code",
   "execution_count": 39,
   "metadata": {},
   "outputs": [
    {
     "data": {
      "text/plain": [
       "None      7\n",
       "782.11    5\n",
       "295.88    4\n",
       "356.88    4\n",
       "312.58    3\n",
       "221.24    3\n",
       "652.14    3\n",
       "144.88    2\n",
       "289.67    2\n",
       "191.58    2\n",
       "366.11    2\n",
       "392.14    2\n",
       "257.35    2\n",
       "239.58    2\n",
       "401.58    2\n",
       "525.67    2\n",
       "314.35    2\n",
       "367.59    2\n",
       "320.59    2\n",
       "197.14    2\n",
       "596.88    2\n",
       "343.58    2\n",
       "414.88    2\n",
       "457.14    1\n",
       "522.11    1\n",
       "527.49    1\n",
       "613.58    1\n",
       "720.67    1\n",
       "713.58    1\n",
       "587.11    1\n",
       "288.14    1\n",
       "340.14    1\n",
       "326.63    1\n",
       "229.59    1\n",
       "548.58    1\n",
       "617.11    1\n",
       "548.24    1\n",
       "195.59    1\n",
       "269.63    1\n",
       "518.58    1\n",
       "348.38    1\n",
       "618.59    1\n",
       "483.24    1\n",
       "462.49    1\n",
       "104.58    1\n",
       "158.14    1\n",
       "453.58    1\n",
       "164.59    1\n",
       "722.49    1\n",
       "131.58    1\n",
       "373.24    1\n",
       "406.11    1\n",
       "269.58    1\n",
       "408.67    1\n",
       "342.32    1\n",
       "Name: Price, dtype: int64"
      ]
     },
     "execution_count": 39,
     "metadata": {},
     "output_type": "execute_result"
    }
   ],
   "source": [
    "df[\"Price\"].value_counts()"
   ]
  },
  {
   "cell_type": "code",
   "execution_count": 40,
   "metadata": {},
   "outputs": [
    {
     "data": {
      "text/plain": [
       "No information available           44\n",
       "2 stoel(en) over aan deze prijs     9\n",
       "None                                7\n",
       "8 stoel(en) over aan deze prijs     7\n",
       "3 stoel(en) over aan deze prijs     7\n",
       "7 stoel(en) over aan deze prijs     5\n",
       "1 stoel(en) over aan deze prijs     4\n",
       "5 stoel(en) over aan deze prijs     4\n",
       "4 stoel(en) over aan deze prijs     3\n",
       "6 stoel(en) over aan deze prijs     3\n",
       "Name: Seats, dtype: int64"
      ]
     },
     "execution_count": 40,
     "metadata": {},
     "output_type": "execute_result"
    }
   ],
   "source": [
    "df[\"Seats\"].value_counts()"
   ]
  }
 ],
 "metadata": {
  "kernelspec": {
   "display_name": "Python 3",
   "language": "python",
   "name": "python3"
  },
  "language_info": {
   "codemirror_mode": {
    "name": "ipython",
    "version": 3
   },
   "file_extension": ".py",
   "mimetype": "text/x-python",
   "name": "python",
   "nbconvert_exporter": "python",
   "pygments_lexer": "ipython3",
   "version": "3.11.0"
  },
  "orig_nbformat": 4
 },
 "nbformat": 4,
 "nbformat_minor": 2
}
