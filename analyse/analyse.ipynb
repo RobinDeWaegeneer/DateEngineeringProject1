{
 "cells": [
  {
   "attachments": {},
   "cell_type": "markdown",
   "metadata": {},
   "source": [
    "# **Analyse in Pandas en PowerBI**\n",
    "Groep 8"
   ]
  },
  {
   "attachments": {},
   "cell_type": "markdown",
   "metadata": {},
   "source": [
    "***Airport iata codes*** <br>\n",
    "**FR** = Ryanair <br>\n",
    "**SN** = Brussels Airlines <br>\n",
    "**HV** = Transavia <br>\n",
    "**TB** = Tui"
   ]
  },
  {
   "cell_type": "code",
   "execution_count": null,
   "metadata": {},
   "outputs": [],
   "source": [
    "import os\n",
    "import csv\n",
    "import sys\n",
    "import warnings\n",
    "import datetime\n",
    "import numpy as np\n",
    "import pandas as pd\n",
    "import seaborn as sns\n",
    "import matplotlib.pyplot as plt\n",
    "import mysql.connector as sql\n",
    "from dotenv import load_dotenv\n",
    "from sklearn.linear_model import LinearRegression\n",
    "\n",
    "warnings.filterwarnings('ignore')\n",
    "\n",
    "dotenv_path = \"../.env\"\n",
    "load_dotenv(dotenv_path)"
   ]
  },
  {
   "attachments": {},
   "cell_type": "markdown",
   "metadata": {},
   "source": [
    "## Data"
   ]
  },
  {
   "attachments": {},
   "cell_type": "markdown",
   "metadata": {},
   "source": [
    "### CSV (overbodig)"
   ]
  },
  {
   "cell_type": "code",
   "execution_count": null,
   "metadata": {},
   "outputs": [],
   "source": [
    "folder = 'C:\\\\ProgramData\\\\MySQL\\\\MySQL Server 8.0\\\\Uploads\\\\'\n",
    "files = os.listdir(folder)"
   ]
  },
  {
   "cell_type": "code",
   "execution_count": null,
   "metadata": {},
   "outputs": [],
   "source": [
    "# create new dataframe\n",
    "allData = pd.DataFrame()\n",
    "\n",
    "# loop through files and append to dataframe\n",
    "for i, file in enumerate(files):\n",
    "    filepath = os.path.join(folder, file)\n",
    "    df = pd.read_csv(filepath, skiprows=0)\n",
    "    allData = allData.append(df, ignore_index=True)\n",
    "\n",
    "# save to csv\n",
    "allData.to_csv('../analyse/allData.csv', index=False)"
   ]
  },
  {
   "attachments": {},
   "cell_type": "markdown",
   "metadata": {},
   "source": [
    "### Datawarehouse MySQL Workbench"
   ]
  },
  {
   "cell_type": "code",
   "execution_count": null,
   "metadata": {},
   "outputs": [],
   "source": [
    "# make a connection to the database\n",
    "dwh = sql.connect(\n",
    "    host=\"127.0.0.1\",   # ip-adres\n",
    "    port=3306,   # poortnummer\n",
    "    user=os.getenv(\"USER\"),   # username\n",
    "    password=os.getenv(\"PASSWORD\"),   # wachtwoord\n",
    "    database=\"AirFaresDWH\"   # naam van de datawarehouse in mysql workbench\n",
    "    # database=\"groep8dep\"   # naam van de OLTP database in mysql workbench\n",
    ")\n",
    "\n",
    "# check if the connection succeeded\n",
    "print(dwh)"
   ]
  },
  {
   "cell_type": "code",
   "execution_count": null,
   "metadata": {},
   "outputs": [],
   "source": [
    "# create cursor\n",
    "cursor = dwh.cursor()\n",
    "\n",
    "# use the right database\n",
    "cursor.execute(\"USE AirFaresDWH\")\n",
    "\n",
    "# get the column names\n",
    "cursor.execute(\"SELECT COLUMN_NAME FROM INFORMATION_SCHEMA.COLUMNS WHERE TABLE_NAME = 'dimairline'\")\n",
    "columns_airline = cursor.fetchall()\n",
    "\n",
    "cursor.execute(\"SELECT COLUMN_NAME FROM INFORMATION_SCHEMA.COLUMNS WHERE TABLE_NAME = 'dimairport'\")\n",
    "columns_airport = cursor.fetchall()\n",
    "\n",
    "cursor.execute(\"SELECT COLUMN_NAME FROM INFORMATION_SCHEMA.COLUMNS WHERE TABLE_NAME = 'dimdate'\")\n",
    "columns_date = cursor.fetchall()\n",
    "\n",
    "cursor.execute(\"SELECT COLUMN_NAME FROM INFORMATION_SCHEMA.COLUMNS WHERE TABLE_NAME = 'dimflight'\")\n",
    "columns_flight = cursor.fetchall()\n",
    "\n",
    "cursor.execute(\"SELECT COLUMN_NAME FROM INFORMATION_SCHEMA.COLUMNS WHERE TABLE_NAME = 'factflightfare'\")\n",
    "columns_fact = cursor.fetchall()\n",
    "\n",
    "\n",
    "# get all the data\n",
    "cursor.execute(\"SELECT * FROM dimairline\")\n",
    "rows_airline = cursor.fetchall()\n",
    "\n",
    "cursor.execute(\"SELECT * FROM dimairport\")\n",
    "rows_airport = cursor.fetchall()\n",
    "\n",
    "cursor.execute(\"SELECT * FROM dimdate\")\n",
    "rows_date = cursor.fetchall()\n",
    "\n",
    "cursor.execute(\"SELECT * FROM dimflight\")\n",
    "rows_flight = cursor.fetchall()\n",
    "\n",
    "cursor.execute(\"SELECT * FROM factflightfare\")\n",
    "rows_fact = cursor.fetchall()\n",
    "\n",
    "\n",
    "# remove the first line with null values\n",
    "rows_airline = rows_airline[1:]\n",
    "rows_airport = rows_airport[1:]\n",
    "rows_date = rows_date[1:]\n",
    "rows_flight = rows_flight[1:]\n",
    "rows_fact = rows_fact[1:]\n",
    "\n",
    "# create dataframes\n",
    "df_airline = pd.DataFrame(rows_airline, columns=[i[0] for i in columns_airline])\n",
    "df_airport = pd.DataFrame(rows_airport, columns=[i[0] for i in columns_airport])\n",
    "df_date = pd.DataFrame(rows_date, columns=[i[0] for i in columns_date])\n",
    "df_flight = pd.DataFrame(rows_flight, columns=[i[0] for i in columns_flight])\n",
    "df_fact = pd.DataFrame(rows_fact, columns=[i[0] for i in columns_fact])\n",
    "\n",
    "# create a new dataframe with all the data\n",
    "df = pd.merge(df_fact, df_flight, on='flight_key')\n",
    "df = pd.merge(df, df_airline, on='airline_key')\n",
    "df = pd.merge(df, df_airport, left_on='depatureAirportKey', right_on='airport_key')\n",
    "df = pd.merge(df, df_airport, left_on='arrivalAirportKey', right_on='airport_key')\n",
    "df = pd.merge(df, df_date, left_on='scrapeDateKey', right_on='date_key')\n",
    "df = pd.merge(df, df_date, left_on='departureDateKey', right_on='date_key')\n",
    "df = pd.merge(df, df_date, left_on='arrivalDateKey', right_on='date_key')\n",
    "\n",
    "# show the columns of the df\n",
    "print(df.columns)\n",
    "\n",
    "# show the df\n",
    "df"
   ]
  },
  {
   "attachments": {},
   "cell_type": "markdown",
   "metadata": {},
   "source": [
    "## Questions"
   ]
  },
  {
   "attachments": {},
   "cell_type": "markdown",
   "metadata": {},
   "source": [
    "### 1) Welke vliegtuigmaatschappij is gemiddeld de goedkoopste / de duurste?"
   ]
  },
  {
   "attachments": {},
   "cell_type": "markdown",
   "metadata": {},
   "source": [
    "Kan zowel in Python als in PowerBI"
   ]
  },
  {
   "cell_type": "code",
   "execution_count": null,
   "metadata": {},
   "outputs": [],
   "source": [
    "# read the data\n",
    "data = pd.read_csv('../analyse/allData.csv')\n",
    "\n",
    "# group the data by airline and calculate the average price\n",
    "grouped_data = data.groupby(['airline_iata_code'])['price'].mean()\n",
    "sorted_data = grouped_data.sort_values()\n",
    "\n",
    "# print the results\n",
    "print(\"De goedkoopste vliegtuigmaatschappij is \" + sorted_data.index[0] + \" met een gemiddelde prijs van\", round(sorted_data[0], 2), \"euro.\")\n",
    "print(\"De duurste vliegtuigmaatschappij is \" + sorted_data.index[-1] + \" met een gemiddelde prijs van\", round(sorted_data[-1], 2), \"euro.\")\n",
    "\n",
    "# plot the results\n",
    "grouped_data.plot(kind='bar', colormap='Pastel2')\n",
    "plt.title('Gemiddelde prijs per airline')\n",
    "plt.xlabel('Airline')\n",
    "plt.ylabel('Gemiddelde prijs (€)')\n",
    "plt.show()"
   ]
  },
  {
   "attachments": {},
   "cell_type": "markdown",
   "metadata": {},
   "source": [
    "### 2) Hoe vaak vliegt elke vliegtuigmaatschappij per week naar elk van de bestemmingen?"
   ]
  },
  {
   "attachments": {},
   "cell_type": "markdown",
   "metadata": {},
   "source": [
    "Kan zowel in Python als in PowerBI"
   ]
  },
  {
   "cell_type": "code",
   "execution_count": null,
   "metadata": {},
   "outputs": [],
   "source": [
    "# read the data\n",
    "data = pd.read_csv('../analyse/allData.csv')\n",
    "\n",
    "# add new column for weekday\n",
    "data['weekday'] = pd.to_datetime(data['departure_date']).dt.day_name()\n",
    "\n",
    "# group the data by airline and destination + count the number of flights per week\n",
    "grouped_data = data.groupby(['airline_iata_code', 'arrival_airport_iata_code', 'weekday']).size().reset_index(name='countOfFlights')\n",
    "\n",
    "pivoted_data = pd.pivot_table(grouped_data, values='countOfFlights', index=['airline_iata_code'], columns=['arrival_airport_iata_code', 'weekday'], fill_value=0)\n",
    "\n",
    "sorted_data = pivoted_data.sort_values(by=['airline_iata_code'])\n",
    "\n",
    "pd.DataFrame(sorted_data)\n",
    "\n",
    "for i in range(len(sorted_data)):\n",
    "    print(\"De vliegtuigmaatschappij \" + sorted_data.index[i] + \" heeft\", sorted_data.iloc[i].sum(), \"in totaal.\")"
   ]
  },
  {
   "cell_type": "code",
   "execution_count": null,
   "metadata": {},
   "outputs": [],
   "source": [
    "# read the data\n",
    "data = pd.read_csv('../analyse/allData.csv')\n",
    "\n",
    "# open the file\n",
    "with open('../analyse/allData.csv', 'r') as csv_file:\n",
    "    reader = csv.DictReader(csv_file)\n",
    "    flights = list(reader)\n",
    "\n",
    "# create dictionary to hold count of flights per airline and destination\n",
    "flights_count = {}\n",
    "\n",
    "# iterate over flights and update count in dictionary\n",
    "for flight in flights:\n",
    "    airline = flight['airline_iata_code']\n",
    "    destination = flight['arrival_airport_iata_code']\n",
    "    if airline not in flights_count:\n",
    "        flights_count[airline] = {}\n",
    "    if destination not in flights_count[airline]:\n",
    "        flights_count[airline][destination] = 0\n",
    "    flights_count[airline][destination] += 1\n",
    "\n",
    "# create list of airlines and destinations\n",
    "airlines = list(flights_count.keys())\n",
    "destinations = list(set(dest for dests in flights_count.values() for dest in dests.keys()))\n",
    "\n",
    "# print table header\n",
    "print('Airline'.ljust(15), end='')\n",
    "for dest in destinations:\n",
    "    print(dest.rjust(10), end='')\n",
    "print('')\n",
    "\n",
    "# print table body\n",
    "for airline in airlines:\n",
    "    print(airline.ljust(15), end='')\n",
    "    for dest in destinations:\n",
    "        count = flights_count.get(airline, {}).get(dest, 0)\n",
    "        print(str(count).rjust(10), end='')\n",
    "    print('')"
   ]
  },
  {
   "cell_type": "code",
   "execution_count": null,
   "metadata": {},
   "outputs": [],
   "source": [
    "# read the data\n",
    "data = pd.read_csv('../analyse/allData.csv')\n",
    "\n",
    "# open new csv file\n",
    "with open('../analyse/vluchtenPerWeek.csv', 'w', newline='') as csv_file:\n",
    "    writer = csv.writer(csv_file)\n",
    "    writer.writerow(['airline_iata_code', 'arrival_airport_iata_code', 'weekNr', 'countOfFlights'])\n",
    "\n",
    "# open the allData.csv file\n",
    "with open('../analyse/allData.csv', 'r') as file:\n",
    "    reader = csv.DictReader(file)\n",
    "\n",
    "    # initialize dictionary to store flights per airline per destination per week\n",
    "    flights_per_week = {}\n",
    "\n",
    "    # loop through the rows\n",
    "    for row in reader:\n",
    "        airline = row['airline_iata_code']\n",
    "        destination = row['arrival_airport_iata_code']\n",
    "        departure_date = row['departure_date']\n",
    "\n",
    "        # convert departure date to datetime object\n",
    "        departure_date_obj = datetime.datetime.strptime(departure_date, '%Y-%m-%d')\n",
    "\n",
    "        # extract week number\n",
    "        week_number = departure_date_obj.strftime('%W')\n",
    "\n",
    "        # add to flights_per_week dictionary\n",
    "        if airline not in flights_per_week:\n",
    "            flights_per_week[airline] = {}\n",
    "        if destination not in flights_per_week[airline]:\n",
    "            flights_per_week[airline][destination] = {}\n",
    "        if week_number not in flights_per_week[airline][destination]:\n",
    "            flights_per_week[airline][destination][week_number] = 0\n",
    "        flights_per_week[airline][destination][week_number] += 1\n",
    "\n",
    "    with open('../analyse/vluchtenPerWeek.csv', 'a', newline='') as csv_file:\n",
    "        # create csv writer\n",
    "        writer = csv.writer(csv_file)\n",
    "\n",
    "        # print flights per airline per destination per week\n",
    "        for airline, destinations in flights_per_week.items():\n",
    "            for destination, weeks in destinations.items():\n",
    "                for week, num_flights in weeks.items():\n",
    "                    # print(f\"Airline: {airline}, Destination: {destination}, Week: {week}, Flights: {num_flights}\")\n",
    "                    writer.writerow([airline, destination, week, num_flights])"
   ]
  },
  {
   "attachments": {},
   "cell_type": "markdown",
   "metadata": {},
   "source": [
    "### 3) Welke vliegtuigmaatschappij biedt de snelste vlucht aan naar een bepaalde bestemming?"
   ]
  },
  {
   "attachments": {},
   "cell_type": "markdown",
   "metadata": {},
   "source": [
    "Volgens mij in PowerBI"
   ]
  },
  {
   "cell_type": "code",
   "execution_count": null,
   "metadata": {},
   "outputs": [],
   "source": []
  },
  {
   "attachments": {},
   "cell_type": "markdown",
   "metadata": {},
   "source": [
    "### 4) Welke vliegtuigmaatschappij biedt de goedkoopste vlucht aan naar een bepaalde bestemming?"
   ]
  },
  {
   "attachments": {},
   "cell_type": "markdown",
   "metadata": {},
   "source": [
    "Volgens mij in PowerBI"
   ]
  },
  {
   "cell_type": "code",
   "execution_count": null,
   "metadata": {},
   "outputs": [],
   "source": []
  },
  {
   "attachments": {},
   "cell_type": "markdown",
   "metadata": {},
   "source": [
    "### 5) Welke vliegtuigmaatschappij biedt een vlucht aan zonder tussenstops, met maximum 1 tussentop, ... ?"
   ]
  },
  {
   "attachments": {},
   "cell_type": "markdown",
   "metadata": {},
   "source": [
    "Volgens mij in PowerBI"
   ]
  },
  {
   "cell_type": "code",
   "execution_count": null,
   "metadata": {},
   "outputs": [],
   "source": []
  },
  {
   "attachments": {},
   "cell_type": "markdown",
   "metadata": {},
   "source": [
    "### 6) Rapport over prijsevolutie en beschibaarheidsevolutie doorheen de tijd?"
   ]
  },
  {
   "attachments": {},
   "cell_type": "markdown",
   "metadata": {},
   "source": [
    "Geen idee wat ze hiermee bedoelen"
   ]
  },
  {
   "cell_type": "code",
   "execution_count": null,
   "metadata": {},
   "outputs": [],
   "source": []
  },
  {
   "attachments": {},
   "cell_type": "markdown",
   "metadata": {},
   "source": [
    "### 7) Is er een correlatie met de vakantiebestemmingen: zijn bepaalde bestemmingen significant duurder dan andere bestemmingen?"
   ]
  },
  {
   "attachments": {},
   "cell_type": "markdown",
   "metadata": {},
   "source": [
    "Kan in zowel python als PowerBI denk ik?"
   ]
  },
  {
   "cell_type": "code",
   "execution_count": null,
   "metadata": {},
   "outputs": [],
   "source": []
  },
  {
   "attachments": {},
   "cell_type": "markdown",
   "metadata": {},
   "source": [
    "### 8) Zijn de prijzen gerelateerd aan vakantieperiodes hier of ter plaatse?"
   ]
  },
  {
   "attachments": {},
   "cell_type": "markdown",
   "metadata": {},
   "source": [
    "Volgens mij in PowerBI"
   ]
  },
  {
   "cell_type": "code",
   "execution_count": null,
   "metadata": {},
   "outputs": [],
   "source": []
  },
  {
   "attachments": {},
   "cell_type": "markdown",
   "metadata": {},
   "source": [
    "### 9) Kan je de prijsstrategie afleiden? (Invloed van aantal dagen voor vertrek, invloed van beschikbaarheid)"
   ]
  },
  {
   "attachments": {},
   "cell_type": "markdown",
   "metadata": {},
   "source": [
    "Weet ik niet in Python of PowerBI"
   ]
  },
  {
   "cell_type": "code",
   "execution_count": null,
   "metadata": {},
   "outputs": [],
   "source": []
  },
  {
   "attachments": {},
   "cell_type": "markdown",
   "metadata": {},
   "source": [
    "### 10) Is er een link tussen prijs en afstand (en duration)? Bijvoorbeeld Tenerife is anderhalf uur verder dan Alicante."
   ]
  },
  {
   "attachments": {},
   "cell_type": "markdown",
   "metadata": {},
   "source": [
    "Geen idee wat er hier moet gebeuren dus ook geen idee van Python of PowerBI"
   ]
  },
  {
   "cell_type": "code",
   "execution_count": null,
   "metadata": {},
   "outputs": [],
   "source": []
  },
  {
   "attachments": {},
   "cell_type": "markdown",
   "metadata": {},
   "source": [
    "### 11) Is er een link tussen prijs en land? Zijn sommige landen opvallend duurder (en kan dit niet verklaard worden door de extra afstand)"
   ]
  },
  {
   "attachments": {},
   "cell_type": "markdown",
   "metadata": {},
   "source": [
    "Geen idee wat er hier moet gebeuren dus ook geen idee van Python of PowerBI"
   ]
  },
  {
   "cell_type": "code",
   "execution_count": null,
   "metadata": {},
   "outputs": [],
   "source": []
  },
  {
   "attachments": {},
   "cell_type": "markdown",
   "metadata": {},
   "source": [
    "### 12) Hoeveel dagen voor vertrek is een vlucht volgeboekt? Zijn er bestemmingen waarbij de vluchten bijna volgeboekt zijn?"
   ]
  },
  {
   "attachments": {},
   "cell_type": "markdown",
   "metadata": {},
   "source": [
    "Kan in zowel Pyhton als PowerBI volgens mij"
   ]
  },
  {
   "cell_type": "code",
   "execution_count": null,
   "metadata": {},
   "outputs": [],
   "source": []
  },
  {
   "attachments": {},
   "cell_type": "markdown",
   "metadata": {},
   "source": [
    "### 13) Hoeveel procent van de vluchten zijn volgeboekt? / Hoeveel plaatsen zijn er nog vrij 5 dagen voor vertrek."
   ]
  },
  {
   "attachments": {},
   "cell_type": "markdown",
   "metadata": {},
   "source": [
    "In Python volgens mij"
   ]
  },
  {
   "cell_type": "code",
   "execution_count": null,
   "metadata": {},
   "outputs": [],
   "source": []
  },
  {
   "attachments": {},
   "cell_type": "markdown",
   "metadata": {},
   "source": [
    "### 14) Plot het verband tussen de prijs en het aantal dagen voor vertrek voor Ryanair voor de afgelopen maand. Maak gebruik van regressie om de prijzen te voorspellen voor de volgende maand."
   ]
  },
  {
   "attachments": {},
   "cell_type": "markdown",
   "metadata": {},
   "source": [
    "Plotten kan in zowel PowerBI als in Python, regressie is sowieso in Python"
   ]
  },
  {
   "attachments": {},
   "cell_type": "markdown",
   "metadata": {},
   "source": [
    "#### Plot het verband tussen de prijs en het aantal dagen voor vertrek voor Ryanair voor de afgelopen maand."
   ]
  },
  {
   "cell_type": "code",
   "execution_count": null,
   "metadata": {},
   "outputs": [],
   "source": [
    "# read the data\n",
    "data = pd.read_csv('../analyse/allData.csv')\n",
    "\n",
    "# filter the data for Ryanair\n",
    "data = data[data['airline_iata_code'] == 'FR']\n",
    "\n",
    "# convert departure date to datetime object\n",
    "data['departure_date'] = pd.to_datetime(data['departure_date'])\n",
    "\n",
    "# add new column for days before departure\n",
    "data['days_before_departure'] = (data['departure_date'] - data['departure_date'].min()).dt.days\n",
    "\n",
    "# previous month with datetime\n",
    "previous_month = datetime.datetime.now() - datetime.timedelta(days=30)\n",
    "\n",
    "# today with datetime\n",
    "today = datetime.datetime.now()\n",
    "\n",
    "# filter the data for the last month ()\n",
    "data = data[(data['departure_date'] >= previous_month) & (data['departure_date'] <= today)]\n",
    "\n",
    "# plot the results\n",
    "plt.figure(figsize=(25, 20))\n",
    "plt.plot(data['days_before_departure'], data['price'], 'o', color='lightgreen')\n",
    "plt.title('Verband tussen prijs en aantal dagen voor vertrek voor Ryanair')\n",
    "plt.xticks(range(0, 31, 1))\n",
    "plt.xlabel('Aantal dagen voor vertrek')\n",
    "plt.ylabel('Prijs (€)')"
   ]
  },
  {
   "attachments": {},
   "cell_type": "markdown",
   "metadata": {},
   "source": [
    "#### Maak gebruik van regressie om de prijzen te voorspellen voor de volgende maand."
   ]
  },
  {
   "cell_type": "code",
   "execution_count": null,
   "metadata": {},
   "outputs": [],
   "source": [
    "# read data for Ryanair only\n",
    "data = pd.read_csv('../analyse/allData.csv', usecols=['airline_iata_code', 'departure_date', 'price'])\n",
    "data = data[data['airline_iata_code'] == 'FR']\n",
    "\n",
    "# convert departure date to datetime object\n",
    "data['departure_date'] = pd.to_datetime(data['departure_date'])\n",
    "\n",
    "# get date range for last month\n",
    "today = datetime.date.today()\n",
    "tomorrow = today + datetime.timedelta(days=1)\n",
    "last_month = today - pd.DateOffset(months=1)\n",
    "date_range = pd.date_range(start=last_month, end=today, freq='D')\n",
    "\n",
    "# filter data for last month\n",
    "data = data[data['departure_date'].isin(date_range)]\n",
    "\n",
    "# create linear regression model\n",
    "lr = LinearRegression()\n",
    "\n",
    "# fit the model\n",
    "X_train = (data['departure_date'] - last_month).dt.days.values.reshape(-1, 1)\n",
    "y_train = data['price'].values.reshape(-1, 1)\n",
    "lr.fit(X_train, y_train)\n",
    "\n",
    "# predict prices for next month\n",
    "next_month = today + pd.DateOffset(months=1)\n",
    "next_month_range = pd.date_range(start=tomorrow, end=next_month, freq='D')\n",
    "X_test = (next_month_range - last_month).days.values.reshape(-1, 1)\n",
    "y_pred_lr = lr.predict(X_test)\n",
    "\n",
    "# plot results\n",
    "plt.figure(figsize=(25, 20))\n",
    "plt.plot(X_train, y_train, 'o', color='lightgreen')\n",
    "plt.plot(X_test, y_pred_lr, 'o', color='lightblue')\n",
    "plt.axvline(x=30, color='pink', linestyle='--')\n",
    "plt.title('Verband tussen prijs en aantal dagen voor/na vertrek voor Ryanair')\n",
    "plt.xticks(range(0, 62, 1))\n",
    "plt.xlabel('Aantal dagen')\n",
    "plt.ylabel('Prijs (€)')\n",
    "plt.legend(['Data', 'Voorspelling Linear Regression'])\n",
    "plt.show()"
   ]
  },
  {
   "attachments": {},
   "cell_type": "markdown",
   "metadata": {},
   "source": [
    "De x-as van deze grafiek moet je interpreteren als volgt: \n",
    "- Van 0 tot en met 30 zijn de waarden voor de dagen voor vertrek (30 = 0 dagen voor vertrek, dus de dag zelf ; 0 = 30 dagen voor vertrek)\n",
    "- Van 31 tot en met 61 zijn de dagen van de komende maand (31 = morgen, 61 = volgende maand)\n",
    "\n",
    "Samenvattend moet je kijken naar de verticale lijn, dit is het 'midden': alles ervoor zijn het aantal dagen voor vertrek, alles erna zijn de komende dagen (hoe dichter bij de lijn, hoe korter bij het heden; hie verder weg, hoe verder in het verleden of de toekomst)"
   ]
  },
  {
   "attachments": {},
   "cell_type": "markdown",
   "metadata": {},
   "source": [
    "### 15) In PowerBI een kaart maken met de mogelijke bestemmingen als de prijs in een bepaalde range moet liggen (op een bepaald moment)."
   ]
  },
  {
   "attachments": {},
   "cell_type": "markdown",
   "metadata": {},
   "source": [
    "In PowerBI"
   ]
  },
  {
   "attachments": {},
   "cell_type": "markdown",
   "metadata": {},
   "source": [
    "Is volledig opgelost, blad noemt \"15\""
   ]
  }
 ],
 "metadata": {
  "kernelspec": {
   "display_name": "Python 3",
   "language": "python",
   "name": "python3"
  },
  "language_info": {
   "codemirror_mode": {
    "name": "ipython",
    "version": 3
   },
   "file_extension": ".py",
   "mimetype": "text/x-python",
   "name": "python",
   "nbconvert_exporter": "python",
   "pygments_lexer": "ipython3",
   "version": "3.11.0"
  },
  "orig_nbformat": 4
 },
 "nbformat": 4,
 "nbformat_minor": 2
}
