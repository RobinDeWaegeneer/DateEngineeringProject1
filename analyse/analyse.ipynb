{
 "cells": [
  {
   "attachments": {},
   "cell_type": "markdown",
   "metadata": {},
   "source": [
    "# **Analyse in Pandas en PowerBI**\n",
    "Groep 8"
   ]
  },
  {
   "attachments": {},
   "cell_type": "markdown",
   "metadata": {},
   "source": [
    "***Airport iata codes*** <br>\n",
    "**FR** = Ryanair <br>\n",
    "**SN** = Brussels Airlines <br>\n",
    "**HV** = Transavia <br>\n",
    "**TB** = Tui"
   ]
  },
  {
   "cell_type": "code",
   "execution_count": 1,
   "metadata": {},
   "outputs": [],
   "source": [
    "import os\n",
    "import csv\n",
    "import sys\n",
    "import warnings\n",
    "import datetime\n",
    "import numpy as np\n",
    "import pandas as pd\n",
    "import seaborn as sns\n",
    "import matplotlib.pyplot as plt\n",
    "from subprocess import Popen, PIPE, STDOUT\n",
    "\n",
    "warnings.filterwarnings('ignore')"
   ]
  },
  {
   "cell_type": "code",
   "execution_count": 2,
   "metadata": {},
   "outputs": [],
   "source": [
    "folder = 'C:\\\\ProgramData\\\\MySQL\\\\MySQL Server 8.0\\\\Uploads\\\\'\n",
    "files = os.listdir(folder)"
   ]
  },
  {
   "cell_type": "code",
   "execution_count": 3,
   "metadata": {},
   "outputs": [],
   "source": [
    "# create new dataframe\n",
    "allData = pd.DataFrame()\n",
    "\n",
    "# loop through files and append to dataframe\n",
    "for i, file in enumerate(files):\n",
    "    filepath = os.path.join(folder, file)\n",
    "    df = pd.read_csv(filepath, skiprows=0)\n",
    "    allData = allData.append(df, ignore_index=True)\n",
    "\n",
    "# save to csv\n",
    "allData.to_csv('../analyse/allData.csv', index=False)"
   ]
  },
  {
   "attachments": {},
   "cell_type": "markdown",
   "metadata": {},
   "source": [
    "## 1) Welke vliegtuigmaatschappij is gemiddeld de goedkoopste / de duurste?"
   ]
  },
  {
   "attachments": {},
   "cell_type": "markdown",
   "metadata": {},
   "source": [
    "Kan zowel in Python als in PowerBI"
   ]
  },
  {
   "cell_type": "code",
   "execution_count": 4,
   "metadata": {},
   "outputs": [
    {
     "name": "stdout",
     "output_type": "stream",
     "text": [
      "De goedkoopste vliegtuigmaatschappij is FR met een gemiddelde prijs van 109.67 euro.\n",
      "De duurste vliegtuigmaatschappij is TB met een gemiddelde prijs van 201.53 euro.\n"
     ]
    },
    {
     "data": {
      "image/png": "[encoded data removed]",
      "text/plain": [
       "<Figure size 640x480 with 1 Axes>"
      ]
     },
     "metadata": {},
     "output_type": "display_data"
    }
   ],
   "source": [
    "# read the data\n",
    "data = pd.read_csv('../analyse/allData.csv')\n",
    "\n",
    "# group the data by airline and calculate the average price\n",
    "grouped_data = data.groupby(['airline_iata_code'])['price'].mean()\n",
    "sorted_data = grouped_data.sort_values()\n",
    "\n",
    "# print the results\n",
    "print(\"De goedkoopste vliegtuigmaatschappij is \" + sorted_data.index[0] + \" met een gemiddelde prijs van\", round(sorted_data[0], 2), \"euro.\")\n",
    "print(\"De duurste vliegtuigmaatschappij is \" + sorted_data.index[-1] + \" met een gemiddelde prijs van\", round(sorted_data[-1], 2), \"euro.\")\n",
    "\n",
    "# plot the results\n",
    "grouped_data.plot(kind='bar', colormap='Pastel2')\n",
    "plt.title('Gemiddelde prijs per airline')\n",
    "plt.xlabel('Airline')\n",
    "plt.ylabel('Gemiddelde prijs (€)')\n",
    "plt.show()"
   ]
  },
  {
   "attachments": {},
   "cell_type": "markdown",
   "metadata": {},
   "source": [
    "## 2) Hoe vaak vliegt elke vliegtuigmaatschappij per week naar elk van de bestemmingen?"
   ]
  },
  {
   "attachments": {},
   "cell_type": "markdown",
   "metadata": {},
   "source": [
    "Kan zowel in Python als in PowerBI"
   ]
  },
  {
   "cell_type": "code",
   "execution_count": 5,
   "metadata": {},
   "outputs": [
    {
     "name": "stdout",
     "output_type": "stream",
     "text": [
      "De vliegtuigmaatschappij FR heeft 33490 in totaal.\n",
      "De vliegtuigmaatschappij HV heeft 9333 in totaal.\n",
      "De vliegtuigmaatschappij TB heeft 47923 in totaal.\n"
     ]
    }
   ],
   "source": [
    "# read the data\n",
    "data = pd.read_csv('../analyse/allData.csv')\n",
    "\n",
    "# add new column for weekday\n",
    "data['weekday'] = pd.to_datetime(data['departure_date']).dt.day_name()\n",
    "\n",
    "# group the data by airline and destination + count the number of flights per week\n",
    "grouped_data = data.groupby(['airline_iata_code', 'arrival_airport_iata_code', 'weekday']).size().reset_index(name='countOfFlights')\n",
    "\n",
    "pivoted_data = pd.pivot_table(grouped_data, values='countOfFlights', index=['airline_iata_code'], columns=['arrival_airport_iata_code', 'weekday'], fill_value=0)\n",
    "\n",
    "sorted_data = pivoted_data.sort_values(by=['airline_iata_code'])\n",
    "\n",
    "pd.DataFrame(sorted_data)\n",
    "\n",
    "for i in range(len(sorted_data)):\n",
    "    print(\"De vliegtuigmaatschappij \" + sorted_data.index[i] + \" heeft\", sorted_data.iloc[i].sum(), \"in totaal.\")"
   ]
  },
  {
   "cell_type": "code",
   "execution_count": 6,
   "metadata": {},
   "outputs": [
    {
     "name": "stdout",
     "output_type": "stream",
     "text": [
      "Airline               CFU       AGP       ALC       BDS       PMO       NAP       IBZ       HER       RHO       FAO       TFS       PMI\n",
      "FR                   1377      4710      5569      2021      2138      3867      1687       867      1291      4515      1724      3724\n",
      "HV                      0      1473      2470         0         0         0      1687       994         0      2219       490         0\n",
      "TB                   1610      9237      9306       738       771       771      3469      4546      3717       961      7085      5712\n"
     ]
    }
   ],
   "source": [
    "# read the data\n",
    "data = pd.read_csv('../analyse/allData.csv')\n",
    "\n",
    "# open the file\n",
    "with open('../analyse/allData.csv', 'r') as csv_file:\n",
    "    reader = csv.DictReader(csv_file)\n",
    "    flights = list(reader)\n",
    "\n",
    "# create dictionary to hold count of flights per airline and destination\n",
    "flights_count = {}\n",
    "\n",
    "# iterate over flights and update count in dictionary\n",
    "for flight in flights:\n",
    "    airline = flight['airline_iata_code']\n",
    "    destination = flight['arrival_airport_iata_code']\n",
    "    if airline not in flights_count:\n",
    "        flights_count[airline] = {}\n",
    "    if destination not in flights_count[airline]:\n",
    "        flights_count[airline][destination] = 0\n",
    "    flights_count[airline][destination] += 1\n",
    "\n",
    "# create list of airlines and destinations\n",
    "airlines = list(flights_count.keys())\n",
    "destinations = list(set(dest for dests in flights_count.values() for dest in dests.keys()))\n",
    "\n",
    "# print table header\n",
    "print('Airline'.ljust(15), end='')\n",
    "for dest in destinations:\n",
    "    print(dest.rjust(10), end='')\n",
    "print('')\n",
    "\n",
    "# print table body\n",
    "for airline in airlines:\n",
    "    print(airline.ljust(15), end='')\n",
    "    for dest in destinations:\n",
    "        count = flights_count.get(airline, {}).get(dest, 0)\n",
    "        print(str(count).rjust(10), end='')\n",
    "    print('')"
   ]
  },
  {
   "cell_type": "code",
   "execution_count": 7,
   "metadata": {},
   "outputs": [],
   "source": [
    "# read the data\n",
    "data = pd.read_csv('../analyse/allData.csv')\n",
    "\n",
    "# open csv file to write the stdout to\n",
    "log = open('../analyse/vluchtenPerWeek.csv', 'w')\n",
    "sys.stdout = log\n",
    "\n",
    "# open the allData.csv file\n",
    "with open('../analyse/allData.csv', 'r') as file:\n",
    "    reader = csv.DictReader(file)\n",
    "\n",
    "    # initialize dictionary to store flights per airline per destination per week\n",
    "    flights_per_week = {}\n",
    "\n",
    "    # loop through the rows\n",
    "    for row in reader:\n",
    "        airline = row['airline_iata_code']\n",
    "        destination = row['arrival_airport_iata_code']\n",
    "        departure_date = row['departure_date']\n",
    "\n",
    "        # convert departure date to datetime object\n",
    "        departure_date_obj = datetime.datetime.strptime(departure_date, '%Y-%m-%d')\n",
    "\n",
    "        # extract week number\n",
    "        week_number = departure_date_obj.strftime('%W')\n",
    "\n",
    "        # add to flights_per_week dictionary\n",
    "        if airline not in flights_per_week:\n",
    "            flights_per_week[airline] = {}\n",
    "        if destination not in flights_per_week[airline]:\n",
    "            flights_per_week[airline][destination] = {}\n",
    "        if week_number not in flights_per_week[airline][destination]:\n",
    "            flights_per_week[airline][destination][week_number] = 0\n",
    "        flights_per_week[airline][destination][week_number] += 1\n",
    "\n",
    "    # print flights per airline per destination per week\n",
    "    for airline, destinations in flights_per_week.items():\n",
    "        for destination, weeks in destinations.items():\n",
    "            for week, num_flights in weeks.items():\n",
    "                print(f\"Airline: {airline}, Destination: {destination}, Week: {week}, Flights: {num_flights}\")\n",
    "\n",
    "# close the file\n",
    "log.close()\n",
    "sys.stdout = sys.__stdout__"
   ]
  },
  {
   "attachments": {},
   "cell_type": "markdown",
   "metadata": {},
   "source": [
    "## 3) Welke vliegtuigmaatschappij biedt de snelste vlucht aan naar een bepaalde bestemming?"
   ]
  },
  {
   "attachments": {},
   "cell_type": "markdown",
   "metadata": {},
   "source": [
    "Volgens mij in PowerBI"
   ]
  },
  {
   "cell_type": "code",
   "execution_count": null,
   "metadata": {},
   "outputs": [],
   "source": []
  },
  {
   "attachments": {},
   "cell_type": "markdown",
   "metadata": {},
   "source": [
    "## 4) Welke vliegtuigmaatschappij biedt de goedkoopste vlucht aan naar een bepaalde bestemming?"
   ]
  },
  {
   "attachments": {},
   "cell_type": "markdown",
   "metadata": {},
   "source": [
    "Volgens mij in PowerBI"
   ]
  },
  {
   "cell_type": "code",
   "execution_count": null,
   "metadata": {},
   "outputs": [],
   "source": []
  },
  {
   "attachments": {},
   "cell_type": "markdown",
   "metadata": {},
   "source": [
    "## 5) Welke vliegtuigmaatschappij biedt een vlucht aan zonder tussenstops, met maximum 1 tussentop, ... ?"
   ]
  },
  {
   "attachments": {},
   "cell_type": "markdown",
   "metadata": {},
   "source": [
    "Volgens mij in PowerBI"
   ]
  },
  {
   "cell_type": "code",
   "execution_count": null,
   "metadata": {},
   "outputs": [],
   "source": []
  },
  {
   "attachments": {},
   "cell_type": "markdown",
   "metadata": {},
   "source": [
    "## 6) Rapport over prijsevolutie en beschibaarheidsevolutie doorheen de tijd?"
   ]
  },
  {
   "attachments": {},
   "cell_type": "markdown",
   "metadata": {},
   "source": [
    "Geen idee wat ze hiermee bedoelen"
   ]
  },
  {
   "cell_type": "code",
   "execution_count": null,
   "metadata": {},
   "outputs": [],
   "source": []
  },
  {
   "attachments": {},
   "cell_type": "markdown",
   "metadata": {},
   "source": [
    "## 7) Is er een correlatie met de vakantiebestemmingen: zijn bepaalde bestemmingen significant duurder dan andere bestemmingen?"
   ]
  },
  {
   "attachments": {},
   "cell_type": "markdown",
   "metadata": {},
   "source": [
    "Kan in zowel python als PowerBI denk ik?"
   ]
  },
  {
   "cell_type": "code",
   "execution_count": null,
   "metadata": {},
   "outputs": [],
   "source": []
  },
  {
   "attachments": {},
   "cell_type": "markdown",
   "metadata": {},
   "source": [
    "## 8) Zijn de prijzen gerelateerd aan vakantieperiodes hier of ter plaatse?"
   ]
  },
  {
   "attachments": {},
   "cell_type": "markdown",
   "metadata": {},
   "source": [
    "Volgens mij in PowerBI"
   ]
  },
  {
   "cell_type": "code",
   "execution_count": null,
   "metadata": {},
   "outputs": [],
   "source": []
  },
  {
   "attachments": {},
   "cell_type": "markdown",
   "metadata": {},
   "source": [
    "## 9) Kan je de prijsstrategie afleiden? (Invloed van aantal dagen voor vertrek, invloed van beschikbaarheid)"
   ]
  },
  {
   "attachments": {},
   "cell_type": "markdown",
   "metadata": {},
   "source": [
    "Weet ik niet in Python of PowerBI"
   ]
  },
  {
   "cell_type": "code",
   "execution_count": null,
   "metadata": {},
   "outputs": [],
   "source": []
  },
  {
   "attachments": {},
   "cell_type": "markdown",
   "metadata": {},
   "source": [
    "## 10) Is er een link tussen prijs en afstand (en duration)? Bijvoorbeeld Tenerife is anderhalf uur verder dan Alicante."
   ]
  },
  {
   "attachments": {},
   "cell_type": "markdown",
   "metadata": {},
   "source": [
    "Geen idee wat er hier moet gebeuren dus ook geen idee van Python of PowerBI"
   ]
  },
  {
   "cell_type": "code",
   "execution_count": null,
   "metadata": {},
   "outputs": [],
   "source": []
  },
  {
   "attachments": {},
   "cell_type": "markdown",
   "metadata": {},
   "source": [
    "## 11) Is er een link tussen prijs en land? Zijn sommige landen opvallend duurder (en kan dit niet verklaard worden door de extra afstand)"
   ]
  },
  {
   "attachments": {},
   "cell_type": "markdown",
   "metadata": {},
   "source": [
    "Geen idee wat er hier moet gebeuren dus ook geen idee van Python of PowerBI"
   ]
  },
  {
   "cell_type": "code",
   "execution_count": null,
   "metadata": {},
   "outputs": [],
   "source": []
  },
  {
   "attachments": {},
   "cell_type": "markdown",
   "metadata": {},
   "source": [
    "## 12) Hoeveel dagen voor vertrek is een vlucht volgeboekt? Zijn er bestemmingen waarbij de vluchten bijna volgeboekt zijn?"
   ]
  },
  {
   "attachments": {},
   "cell_type": "markdown",
   "metadata": {},
   "source": [
    "Kan in zowel Pyhton als PowerBI volgens mij"
   ]
  },
  {
   "cell_type": "code",
   "execution_count": null,
   "metadata": {},
   "outputs": [],
   "source": []
  },
  {
   "attachments": {},
   "cell_type": "markdown",
   "metadata": {},
   "source": [
    "## 13) Hoeveel procent van de vluchten zijn volgeboekt? / Hoeveel plaatsen zijn er nog vrij 5 dagen voor vertrek."
   ]
  },
  {
   "attachments": {},
   "cell_type": "markdown",
   "metadata": {},
   "source": [
    "In Python volgens mij"
   ]
  },
  {
   "cell_type": "code",
   "execution_count": null,
   "metadata": {},
   "outputs": [],
   "source": []
  },
  {
   "attachments": {},
   "cell_type": "markdown",
   "metadata": {},
   "source": [
    "## 14) Plot het verband tussen de prijs en het aantal dagen voor vertrek voor Ryanair voor de afgelopen maand. Maak gebruik van regressie om de prijzen te voorspellen voor de volgende maand."
   ]
  },
  {
   "attachments": {},
   "cell_type": "markdown",
   "metadata": {},
   "source": [
    "Plotten kan in zowel PowerBI als in Python, regressie is sowieso in Python"
   ]
  },
  {
   "cell_type": "code",
   "execution_count": null,
   "metadata": {},
   "outputs": [],
   "source": []
  },
  {
   "attachments": {},
   "cell_type": "markdown",
   "metadata": {},
   "source": [
    "## 15) In PowerBI een kaart maken met de mogelijke bestemmingen als de prijs in een bepaalde range moet liggen (op een bepaald moment)."
   ]
  },
  {
   "attachments": {},
   "cell_type": "markdown",
   "metadata": {},
   "source": [
    "In PowerBI"
   ]
  },
  {
   "cell_type": "code",
   "execution_count": null,
   "metadata": {},
   "outputs": [],
   "source": []
  }
 ],
 "metadata": {
  "kernelspec": {
   "display_name": "Python 3",
   "language": "python",
   "name": "python3"
  },
  "language_info": {
   "codemirror_mode": {
    "name": "ipython",
    "version": 3
   },
   "file_extension": ".py",
   "mimetype": "text/x-python",
   "name": "python",
   "nbconvert_exporter": "python",
   "pygments_lexer": "ipython3",
   "version": "3.11.0"
  },
  "orig_nbformat": 4
 },
 "nbformat": 4,
 "nbformat_minor": 2
}
